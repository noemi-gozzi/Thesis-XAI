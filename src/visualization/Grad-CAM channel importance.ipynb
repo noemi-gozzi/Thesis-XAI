{
 "cells": [
  {
   "cell_type": "code",
   "execution_count": null,
   "metadata": {},
   "outputs": [],
   "source": [
    "import sys\n",
    "sys.path.append('..')\n",
    "import re"
   ]
  },
  {
   "cell_type": "code",
   "execution_count": null,
   "metadata": {},
   "outputs": [],
   "source": [
    "import pickle\n",
    "import numpy as np\n",
    "import matplotlib.pyplot as plt\n",
    "import pandas as pd\n",
    "from keras.models import load_model\n",
    "from utils.utils_classes import RReLU\n",
    "from utils.load_data import load_dataset\n",
    "import shap\n",
    "import seaborn as sns\n",
    "root_path=\"C://Users//noemi//Desktop//university//university//tesi/Thesis-XAI/\""
   ]
  },
  {
   "cell_type": "code",
   "execution_count": null,
   "metadata": {},
   "outputs": [],
   "source": [
    "with open(root_path + '/resources/data_deep/data_ordered/Xtest_ordered.pkl', 'rb') as f:\n",
    "    Xtest = pickle.load(f)"
   ]
  },
  {
   "cell_type": "code",
   "execution_count": null,
   "metadata": {},
   "outputs": [],
   "source": [
    "patient=1\n",
    "path = root_path + \"/resources/Grad-CAM method 2/gradcam_results_patient{}_conv_1D_method2.pkl\".format(patient)\n",
    "with open(path, 'rb') as f:\n",
    "    gradcam = pickle.load(f)"
   ]
  },
  {
   "cell_type": "code",
   "execution_count": null,
   "metadata": {},
   "outputs": [],
   "source": [
    "saved_model = load_model(root_path + '/resources/Conv1D/Conv1D_pat_{}.h5'.format(patient),\n",
    "                         custom_objects={'RReLU': RReLU})"
   ]
  },
  {
   "cell_type": "code",
   "execution_count": null,
   "metadata": {},
   "outputs": [],
   "source": [
    "classes = 8"
   ]
  },
  {
   "cell_type": "code",
   "execution_count": null,
   "metadata": {},
   "outputs": [],
   "source": [
    "## if mean for observation\n",
    "for cls in range(classes):\n",
    "    for index in range(gradcam[cls][\"gradcam_values\"].shape[0]):\n",
    "        maximum_gd=gradcam[cls][\"gradcam_values\"][index].max()\n",
    "        #print(maximum_gd)\n",
    "        if maximum_gd!=0:\n",
    "            gradcam[cls][\"gradcam_values\"][index]=gradcam[cls][\"gradcam_values\"][index]/maximum_gd"
   ]
  },
  {
   "cell_type": "code",
   "execution_count": null,
   "metadata": {},
   "outputs": [],
   "source": [
    "mean_val=[]        \n",
    "for cls in range(classes):\n",
    "    #\n",
    "    #maximum_gd=gradcam[cls][\"gradcam_values\"].max()\n",
    "    #mean_val.append(np.average((gradcam[cls][\"gradcam_values\"]/maximum_gd), axis=2))\n",
    "    mean_val.append(np.average((gradcam[cls][\"gradcam_values\"]), axis=2))\n",
    "print((mean_val[2].shape))"
   ]
  },
  {
   "cell_type": "code",
   "execution_count": null,
   "metadata": {},
   "outputs": [],
   "source": [
    "heigth=4;\n",
    "width=2;\n",
    "f, axes = plt.subplots(heigth, width,figsize=(16, 50))\n",
    "f.subplots_adjust(hspace=0.6, wspace=0.4)\n",
    "lst=[0,2,4,6]\n",
    "for i, num in enumerate(lst):\n",
    "    axes[i,0].boxplot(mean_val[num], patch_artist=True)\n",
    "    axes[i,0].set(xlabel=\"Channel\", ylabel=\"gradcam value\")\n",
    "    axes[i,0].set(title=\"Class {}\".format(num))\n",
    "    #axes[i,0].set_ylim(-0.000001, 0.00025)\n",
    "    axes[i,1].boxplot(mean_val[num+1], patch_artist=True)\n",
    "    axes[i,1].set(xlabel=\"Channel\", ylabel=\"gradcam value\")\n",
    "    axes[i,1].set(title=\"Class {}\".format(num+1))\n",
    "    #axes[i,1].set_ylim(-0.001, 0.005)\n",
    "plt.savefig(root_path+\"/resources/grad_cam_boxplot_pat_{}\".format(patient))"
   ]
  },
  {
   "cell_type": "markdown",
   "metadata": {},
   "source": [
    "# Grad-CAM for all patient"
   ]
  },
  {
   "cell_type": "code",
   "execution_count": null,
   "metadata": {},
   "outputs": [],
   "source": [
    "num_pat=11\n",
    "for patient in range(1):  \n",
    "    path = root_path + \"/resources/Grad-CAM method 2/6 channels conv5/gradcam_results_patient{}_conv_2D_6channels_conv5.pkl\".format(patient)\n",
    "    with open(path, 'rb') as f:\n",
    "        gradcam = pickle.load(f)\n",
    "    saved_model = load_model(root_path + '/resources/new_models/conv5/Conv2D_6channels_pat_{}_nodense.h5'.format(patient),\n",
    "                             custom_objects={'RReLU': RReLU})\n",
    "    classes = 8"
   ]
  },
  {
   "cell_type": "code",
   "execution_count": null,
   "metadata": {},
   "outputs": [],
   "source": [
    "num_pat=11\n",
    "for patient in range(11):  \n",
    "    path = root_path + \"/resources/Grad-CAM method 2/6 channels conv5/gradcam_results_patient{}_conv_2D_6channels_conv5.pkl\".format(patient)\n",
    "    with open(path, 'rb') as f:\n",
    "        gradcam = pickle.load(f)\n",
    "    saved_model = load_model(root_path + '/resources/new_models/conv5/Conv2D_6channels_pat_{}_nodense.h5'.format(patient),\n",
    "                             custom_objects={'RReLU': RReLU})\n",
    "    classes = 8\n",
    "    for cls in range(classes):\n",
    "        for index in range(gradcam[cls][\"gradcam_values\"].shape[0]):\n",
    "            maximum_gd=gradcam[cls][\"gradcam_values\"][index].max()\n",
    "            #print(maximum_gd)\n",
    "            if maximum_gd!=0:\n",
    "                gradcam[cls][\"gradcam_values\"][index]=gradcam[cls][\"gradcam_values\"][index]/maximum_gd\n",
    "    mean_val=[]        \n",
    "                \n",
    "    for cls in range(classes):\n",
    "        #maximum_gd=gradcam[cls][\"gradcam_values\"].max()\n",
    "        #mean_val.append(np.average((gradcam[cls][\"gradcam_values\"]/maximum_gd), axis=2))\n",
    "        mean_val.append(np.average((gradcam[cls][\"gradcam_values\"]), axis=2))\n",
    "    print((mean_val[2].shape))\n",
    "    heigth=2;\n",
    "    width=4;\n",
    "    f, axes = plt.subplots(heigth, width,figsize=(70, 40))\n",
    "    f.subplots_adjust(hspace=0.3, wspace=0.2)\n",
    "    #lst=[0,2,4,6]\n",
    "    #lst=[0,3,6]\n",
    "    lst=[0,2]\n",
    "    for i, num in enumerate(lst):\n",
    "        axes[i,0].boxplot(mean_val[num], patch_artist=True)\n",
    "        axes[i,0].set(xlabel=\"Channel\", ylabel=\"gradcam value\")\n",
    "        axes[i,0].set(title=\"Class {}\".format(num))\n",
    "        #axes[i,0].set_ylim(-0.000001, 0.00025)\n",
    "        axes[i,1].boxplot(mean_val[num+1], patch_artist=True)\n",
    "        axes[i,1].set(xlabel=\"Channel\", ylabel=\"gradcam value\")\n",
    "        axes[i,1].set(title=\"Class {}\".format(num+1))\n",
    "        axes[i,2].boxplot(mean_val[num+2], patch_artist=True)\n",
    "        axes[i,2].set(xlabel=\"Channel\", ylabel=\"gradcam value\")\n",
    "        axes[i,2].set(title=\"Class {}\".format(num+2))\n",
    "        axes[i,3].boxplot(mean_val[num+3], patch_artist=True)\n",
    "        axes[i,3].set(xlabel=\"Channel\", ylabel=\"gradcam value\")\n",
    "        axes[i,3].set(title=\"Class {}\".format(num+3))\n",
    "        #axes[i,1].set_ylim(-0.001, 0.005)\n",
    "    plt.savefig(root_path+\"/resources/Grad-CAM method 2/6 channels conv5/gradcam_results_patient{}_conv_2D_6channels_conv5.png\".format(patient))"
   ]
  },
  {
   "cell_type": "code",
   "execution_count": null,
   "metadata": {},
   "outputs": [],
   "source": [
    "for patient in range(11):  \n",
    "    print(\"Patient: \", patient)\n",
    "    path = root_path + \"/resources/Grad-CAM method 2/6 channels 3conv/gradcam_results_patient{}_conv_2D_6channels_conv5.pkl\".format(patient)\n",
    "    with open(path, 'rb') as f:\n",
    "        gradcam = pickle.load(f)\n",
    "    saved_model = load_model(root_path + '/resources/new_models/conv5/Conv2D_6channels_pat_{}_nodense.h5'.format(patient),\n",
    "                             custom_objects={'RReLU': RReLU})\n",
    "    classes = 8\n",
    "    for cls in range(classes):\n",
    "        for index in range(gradcam[cls][\"gradcam_values\"].shape[0]):\n",
    "            maximum_gd=gradcam[cls][\"gradcam_values\"][index].max()\n",
    "            minimum=gradcam[cls][\"gradcam_values\"][index].min()\n",
    "            #print(maximum_gd)\n",
    "            if (maximum_gd-minimum)!=0:\n",
    "                gradcam[cls][\"gradcam_values\"][index]=(gradcam[cls][\"gradcam_values\"][index]-minimum)/(maximum_gd-minimum)\n",
    "                \n",
    "            else:\n",
    "                gradcam[cls][\"gradcam_values\"][index]=(gradcam[cls][\"gradcam_values\"][index]-minimum)/0.00001\n",
    "    mean_val=[]     \n",
    "    for cls in range(classes):\n",
    "       \n",
    "        \n",
    "        mean_tot=np.average(np.average((gradcam[cls][\"gradcam_values\"]), axis=2), axis=0)\n",
    "       \n",
    "        #print(mean_tot)\n",
    "        print(\"Class:\", cls, \"Channel: \", np.argsort(-mean_tot))\n",
    "        #maximum_gd=gradcam[cls][\"gradcam_values\"].max()\n",
    "        #mean_val.append(np.average((gradcam[cls][\"gradcam_values\"]/maximum_gd), axis=2))\n",
    "        mean_val.append(np.average((gradcam[cls][\"gradcam_values\"]), axis=2))\n",
    "    print((mean_val[2].shape))"
   ]
  },
  {
   "cell_type": "code",
   "execution_count": null,
   "metadata": {},
   "outputs": [],
   "source": [
    "mean_pat=[]\n",
    "for patient in range(11):  \n",
    "    print(\"Patient: \", patient)\n",
    "    path = root_path + \"/resources/Grad-CAM method 2/kernel30/gradcam_results_patient{}_conv_2D_6channels_kernel30.pkl\".format(patient)\n",
    "    with open(path, 'rb') as f:\n",
    "        gradcam = pickle.load(f)\n",
    "    saved_model = load_model(root_path + '/resources/new_models/kernel30/Conv2D_6channels_pat_{}_kernel30.h5'.format(patient),\n",
    "                             custom_objects={'RReLU': RReLU})\n",
    "    classes = 8\n",
    "    for cls in range(classes):\n",
    "        for index in range(gradcam[cls][\"gradcam_values\"].shape[0]):\n",
    "            maximum_gd=gradcam[cls][\"gradcam_values\"][index].max()\n",
    "            minimum=gradcam[cls][\"gradcam_values\"][index].min()\n",
    "            #print(maximum_gd)\n",
    "            if (maximum_gd-minimum)!=0:\n",
    "                gradcam[cls][\"gradcam_values\"][index]=(gradcam[cls][\"gradcam_values\"][index]-minimum)/(maximum_gd-minimum)\n",
    "                \n",
    "            else:\n",
    "                gradcam[cls][\"gradcam_values\"][index]=(gradcam[cls][\"gradcam_values\"][index]-minimum)/0.00001\n",
    "    mean_val=[]\n",
    "    for cls in range(classes):\n",
    "       \n",
    "        \n",
    "        mean_tot=np.average(np.average((gradcam[cls][\"gradcam_values\"]), axis=2), axis=0)\n",
    "       \n",
    "        #print(mean_tot)\n",
    "        print(\"Class:\", cls, \"Channel: \", np.argsort(-mean_tot))\n",
    "        #maximum_gd=gradcam[cls][\"gradcam_values\"].max()\n",
    "        #mean_val.append(np.average((gradcam[cls][\"gradcam_values\"]/maximum_gd), axis=2))\n",
    "        mean_val.append(mean_tot)\n",
    "    mean_pat.append(mean_val)"
   ]
  },
  {
   "cell_type": "code",
   "execution_count": null,
   "metadata": {},
   "outputs": [],
   "source": [
    "print(len(mean_pat))\n",
    "for cls in range(8):\n",
    "    tmp=[mean_pat[i][cls] for i in range (11)]\n",
    "    print(len(tmp))\n",
    "    #print(mean_tot)\n",
    "    print(\"Class:\", cls, \"Channel: \", np.argsort(-(np.average(tmp, axis=0))))"
   ]
  },
  {
   "cell_type": "code",
   "execution_count": null,
   "metadata": {},
   "outputs": [],
   "source": [
    "path = root_path + \"/resources/Grad-CAM-not-norm/gradcam_results_patient{}_conv_1D.pkl\".format(0)\n",
    "with open(path, 'rb') as f:\n",
    "    gradcam = pickle.load(f)"
   ]
  },
  {
   "cell_type": "code",
   "execution_count": null,
   "metadata": {},
   "outputs": [],
   "source": [
    "for patient in range(11):  \n",
    "    print(\"Patient: \", patient)\n",
    "    path = root_path + \"/resources/Grad-CAM-not-norm/gradcam_results_patient{}_conv_1D.pkl\".format(patient)\n",
    "    with open(path, 'rb') as f:\n",
    "        gradcam = pickle.load(f)\n",
    "    saved_model = load_model(root_path + '/resources/Conv1D/Conv1D_pat_{}.h5'.format(patient),\n",
    "                             custom_objects={'RReLU': RReLU})\n",
    "    classes = 8\n",
    " \n",
    "    \n",
    "    for cls in range(classes):\n",
    "       \n",
    "        \n",
    "        mean_tot=np.average(np.average((gradcam[cls][\"gradcam_values\"]), axis=2), axis=0)\n",
    "       \n",
    "        #print(mean_tot)\n",
    "        print(\"Class:\", cls, \"Channel: \", np.argsort(-mean_tot))\n",
    "        #maximum_gd=gradcam[cls][\"gradcam_values\"].max()\n",
    "        #mean_val.append(np.average((gradcam[cls][\"gradcam_values\"]/maximum_gd), axis=2))\n",
    "        mean_val.append(np.average((gradcam[cls][\"gradcam_values\"]), axis=2))\n",
    "    print((mean_val[2].shape))"
   ]
  }
 ],
 "metadata": {
  "kernelspec": {
   "display_name": "Python 3",
   "language": "python",
   "name": "python3"
  },
  "language_info": {
   "codemirror_mode": {
    "name": "ipython",
    "version": 3
   },
   "file_extension": ".py",
   "mimetype": "text/x-python",
   "name": "python",
   "nbconvert_exporter": "python",
   "pygments_lexer": "ipython3",
   "version": "3.7.7"
  }
 },
 "nbformat": 4,
 "nbformat_minor": 4
}
