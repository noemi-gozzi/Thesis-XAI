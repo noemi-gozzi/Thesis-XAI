{
 "cells": [
  {
   "cell_type": "code",
   "execution_count": 1,
   "metadata": {},
   "outputs": [
    {
     "name": "stderr",
     "output_type": "stream",
     "text": [
      "Using TensorFlow backend.\n"
     ]
    }
   ],
   "source": [
    "import sys\n",
    "sys.path.append('..')\n",
    "import re\n",
    "from keras.models import Sequential, load_model, Model\n",
    "from keras.utils import to_categorical, plot_model\n",
    "from utils.utils_classes import RReLU\n",
    "import matplotlib.pyplot as plt\n",
    "import numpy as np\n",
    "import pickle\n",
    "root_path=\"/home/tesi/Thesis-XAI/\""
   ]
  },
  {
   "cell_type": "code",
   "execution_count": 2,
   "metadata": {},
   "outputs": [
    {
     "name": "stdout",
     "output_type": "stream",
     "text": [
      "11\n",
      "(1644,)\n"
     ]
    }
   ],
   "source": [
    "with open(root_path+'resources/data_deep/data_ordered/ytest_big.pkl', 'rb') as f:\n",
    "    Ytestset = pickle.load(f)\n",
    "print(len(Ytestset))\n",
    "print(Ytestset[0].shape)"
   ]
  },
  {
   "cell_type": "code",
   "execution_count": 7,
   "metadata": {},
   "outputs": [
    {
     "output_type": "stream",
     "name": "stdout",
     "text": [
      "11\n",
      "(1644, 10, 512, 1)\n"
     ]
    }
   ],
   "source": [
    "with open(root_path+'resources/data_deep/data_ordered/Xtest_big.pkl', 'rb') as f:\n",
    "    Xtestset = pickle.load(f)\n",
    "print(len(Xtestset))\n",
    "print(Xtestset[0].shape)\n",
    "\n",
    "Xtestset_drop=[]\n",
    "for patient in range(11):\n",
    "    X_tmp=np.zeros((len(Xtestset[patient]), 6, 512,1))\n",
    "    for index in range(len(Xtestset[patient])):\n",
    "        X_tmp[index]=np.delete(Xtestset[patient][index], [6,7,8,9], axis=0)\n",
    "    Xtestset_drop.append(X_tmp)"
   ]
  },
  {
   "cell_type": "code",
   "execution_count": 8,
   "metadata": {},
   "outputs": [
    {
     "name": "stdout",
     "output_type": "stream",
     "text": [
      "Result on test set for taregt domain: accuracy: 94.10%\n",
      "True\n",
      "(97,)\n",
      "(97, 6, 512, 1)\n",
      "(1547, 6, 512, 1)\n",
      "Result on test set for taregt domain: accuracy: 95.30%\n",
      "True\n",
      "(77,)\n",
      "(77, 6, 512, 1)\n",
      "(1561, 6, 512, 1)\n",
      "Result on test set for taregt domain: accuracy: 88.86%\n",
      "True\n",
      "(186,)\n",
      "(186, 6, 512, 1)\n",
      "(1483, 6, 512, 1)\n",
      "Result on test set for taregt domain: accuracy: 92.73%\n",
      "True\n",
      "(114,)\n",
      "(114, 6, 512, 1)\n",
      "(1455, 6, 512, 1)\n",
      "Result on test set for taregt domain: accuracy: 92.80%\n",
      "True\n",
      "(120,)\n",
      "(120, 6, 512, 1)\n",
      "(1547, 6, 512, 1)\n",
      "Result on test set for taregt domain: accuracy: 91.67%\n",
      "True\n",
      "(137,)\n",
      "(137, 6, 512, 1)\n",
      "(1507, 6, 512, 1)\n",
      "Result on test set for taregt domain: accuracy: 83.44%\n",
      "True\n",
      "(273,)\n",
      "(273, 6, 512, 1)\n",
      "(1376, 6, 512, 1)\n",
      "Result on test set for taregt domain: accuracy: 97.51%\n",
      "True\n",
      "(38,)\n",
      "(38, 6, 512, 1)\n",
      "(1489, 6, 512, 1)\n",
      "Result on test set for taregt domain: accuracy: 96.32%\n",
      "True\n",
      "(59,)\n",
      "(59, 6, 512, 1)\n",
      "(1544, 6, 512, 1)\n",
      "Result on test set for taregt domain: accuracy: 95.71%\n",
      "True\n",
      "(70,)\n",
      "(70, 6, 512, 1)\n",
      "(1560, 6, 512, 1)\n",
      "Result on test set for taregt domain: accuracy: 90.34%\n",
      "True\n",
      "(160,)\n",
      "(160, 6, 512, 1)\n",
      "(1496, 6, 512, 1)\n"
     ]
    }
   ],
   "source": [
    "Xtest_error=[]\n",
    "Xtest_correct=[]\n",
    "for patient in range(11):\n",
    "    #patient 0\n",
    "    saved_model = load_model(root_path+'/resources/new_models/Conv2D_6channels_pat_{}.h5'.format(patient), custom_objects={'RReLU': RReLU})\n",
    "    #saved_model.summary()\n",
    "    Xtest=Xtestset_drop[patient]\n",
    "    ytest=Ytestset[patient]-1\n",
    "    ytestcat=to_categorical(ytest,8)\n",
    "    # evaluate the model\n",
    "    scores = saved_model.evaluate(Xtest, ytestcat, verbose=0)\n",
    "    print(\"Result on test set for taregt domain: %s: %.2f%%\" % (saved_model.metrics_names[1], scores[1] * 100))\n",
    "    preds=saved_model.predict(Xtest)\n",
    "    preds_value=np.argmax((preds), axis=1)\n",
    "    print(preds_value.shape==ytest.shape)\n",
    "    indexes=np.where(ytest!=preds_value)\n",
    "    print(indexes[0].shape)\n",
    "    xtesterr=Xtest[indexes]\n",
    "    xtestcorr=Xtest[np.where(ytest==preds_value)]\n",
    "    print(xtesterr.shape)\n",
    "    print(xtestcorr.shape)\n",
    "    \n",
    "    Xtest_error.append(xtesterr)\n",
    "    Xtest_correct.append(xtestcorr)"
   ]
  },
  {
   "cell_type": "code",
   "execution_count": 11,
   "metadata": {},
   "outputs": [],
   "source": [
    "with open(root_path+'/resources/data_deep/data_ordered/Xtest_correct_big.pkl',\n",
    "          'wb') as f:\n",
    "          pickle.dump(Xtest_correct, f)"
   ]
  },
  {
   "cell_type": "code",
   "execution_count": 12,
   "metadata": {
    "scrolled": true
   },
   "outputs": [],
   "source": [
    "with open(root_path+'/resources/data_deep/data_ordered/Xtest_error_big.pkl',\n",
    "          'wb') as f:\n",
    "          pickle.dump(Xtest_error, f)"
   ]
  },
  {
   "cell_type": "code",
   "execution_count": 8,
   "metadata": {},
   "outputs": [
    {
     "output_type": "stream",
     "name": "stdout",
     "text": [
      "11\n[(3072, 10, 512, 1), (3137, 10, 512, 1), (2876, 10, 512, 1), (2783, 10, 512, 1), (2973, 10, 512, 1), (3052, 10, 512, 1), (2839, 10, 512, 1), (2897, 10, 512, 1), (2961, 10, 512, 1), (3241, 10, 512, 1), (2970, 10, 512, 1)]\n"
     ]
    }
   ],
   "source": [
    "with open(root_path+'/resources/data_deep/Xtest_correct_ordered.pkl', 'rb') as f:\n",
    "    temp = pickle.load(f)\n",
    "print(len(temp))\n",
    "shapes=[temp[i].shape for i in range(len(temp))]\n",
    "print(shapes)"
   ]
  },
  {
   "cell_type": "code",
   "execution_count": 46,
   "metadata": {},
   "outputs": [
    {
     "name": "stdout",
     "output_type": "stream",
     "text": [
      "(225,)\n"
     ]
    }
   ],
   "source": []
  },
  {
   "cell_type": "code",
   "execution_count": 75,
   "metadata": {},
   "outputs": [
    {
     "name": "stdout",
     "output_type": "stream",
     "text": [
      "[1 2]\n",
      "[6 5]\n"
     ]
    }
   ],
   "source": [
    "a=np.array([1,2,3,4,5,6])\n",
    "indexes=np.array([0,1])\n",
    "b=a[indexes]\n",
    "print(b)\n",
    "c=a[~indexes]\n",
    "print(c)"
   ]
  },
  {
   "cell_type": "code",
   "execution_count": 41,
   "metadata": {},
   "outputs": [
    {
     "data": {
      "text/plain": [
       "(225, 10, 512, 1)"
      ]
     },
     "execution_count": 41,
     "metadata": {},
     "output_type": "execute_result"
    }
   ],
   "source": [
    "xtesterr.shape"
   ]
  },
  {
   "cell_type": "code",
   "execution_count": 78,
   "metadata": {},
   "outputs": [
    {
     "name": "stdout",
     "output_type": "stream",
     "text": [
      "[3 4 5 6]\n"
     ]
    }
   ],
   "source": [
    "c=np.delete(a, indexes)\n",
    "print(c)"
   ]
  },
  {
   "cell_type": "code",
   "execution_count": null,
   "metadata": {},
   "outputs": [],
   "source": []
  }
 ],
 "metadata": {
  "kernelspec": {
   "display_name": "Python 3",
   "language": "python",
   "name": "python3"
  },
  "language_info": {
   "codemirror_mode": {
    "name": "ipython",
    "version": 3
   },
   "file_extension": ".py",
   "mimetype": "text/x-python",
   "name": "python",
   "nbconvert_exporter": "python",
   "pygments_lexer": "ipython3",
   "version": "3.6.9-final"
  }
 },
 "nbformat": 4,
 "nbformat_minor": 4
}