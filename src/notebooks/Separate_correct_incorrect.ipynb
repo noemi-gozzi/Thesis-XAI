{
 "cells": [
  {
   "cell_type": "code",
   "execution_count": 1,
   "metadata": {},
   "outputs": [
    {
     "output_type": "stream",
     "name": "stderr",
     "text": [
      "Using TensorFlow backend.\n"
     ]
    }
   ],
   "source": [
    "import sys\n",
    "sys.path.append('..')\n",
    "import re\n",
    "from keras.models import Sequential, load_model, Model\n",
    "from keras.utils import to_categorical, plot_model\n",
    "from utils.utils_classes import RReLU\n",
    "import matplotlib.pyplot as plt\n",
    "import numpy as np\n",
    "import pickle\n",
    "root_path=\"/home/tesi/Thesis-XAI/\""
   ]
  },
  {
   "cell_type": "code",
   "execution_count": 2,
   "metadata": {},
   "outputs": [
    {
     "output_type": "stream",
     "name": "stdout",
     "text": [
      "11\n(3297,)\n"
     ]
    }
   ],
   "source": [
    "with open(root_path+'resources/data_deep/data_ordered/ytest_ordered.pkl', 'rb') as f:\n",
    "    Ytestset = pickle.load(f)\n",
    "print(len(Ytestset))\n",
    "print(Ytestset[0].shape)"
   ]
  },
  {
   "cell_type": "code",
   "execution_count": 3,
   "metadata": {},
   "outputs": [
    {
     "output_type": "stream",
     "name": "stdout",
     "text": [
      "11\n(3297, 10, 512, 1)\n"
     ]
    }
   ],
   "source": [
    "with open(root_path+'resources/data_deep/data_ordered/Xtest_ordered.pkl', 'rb') as f:\n",
    "    Xtestset = pickle.load(f)\n",
    "print(len(Xtestset))\n",
    "print(Xtestset[0].shape)"
   ]
  },
  {
   "cell_type": "code",
   "execution_count": 4,
   "metadata": {},
   "outputs": [
    {
     "output_type": "stream",
     "name": "stdout",
     "text": [
      "WARNING:tensorflow:From /home/tesi/Thesis-XAI/venv/lib/python3.6/site-packages/tensorflow_core/python/ops/resource_variable_ops.py:1630: calling BaseResourceVariable.__init__ (from tensorflow.python.ops.resource_variable_ops) with constraint is deprecated and will be removed in a future version.\n",
      "Instructions for updating:\n",
      "If using Keras pass *_constraint arguments to layers.\n",
      "WARNING:tensorflow:From /home/tesi/Thesis-XAI/venv/lib/python3.6/site-packages/keras/backend/tensorflow_backend.py:4070: The name tf.nn.max_pool is deprecated. Please use tf.nn.max_pool2d instead.\n",
      "\n",
      "WARNING:tensorflow:From /home/tesi/Thesis-XAI/venv/lib/python3.6/site-packages/keras/backend/tensorflow_backend.py:422: The name tf.global_variables is deprecated. Please use tf.compat.v1.global_variables instead.\n",
      "\n",
      "Result on test set for taregt domain: accuracy: 93.18%\n",
      "True\n",
      "(225,)\n",
      "(225, 10, 512, 1)\n",
      "(3072, 10, 512, 1)\n",
      "Result on test set for taregt domain: accuracy: 97.15%\n",
      "True\n",
      "(92,)\n",
      "(92, 10, 512, 1)\n",
      "(3137, 10, 512, 1)\n",
      "Result on test set for taregt domain: accuracy: 87.68%\n",
      "True\n",
      "(404,)\n",
      "(404, 10, 512, 1)\n",
      "(2876, 10, 512, 1)\n",
      "Result on test set for taregt domain: accuracy: 90.56%\n",
      "True\n",
      "(290,)\n",
      "(290, 10, 512, 1)\n",
      "(2783, 10, 512, 1)\n",
      "Result on test set for taregt domain: accuracy: 89.44%\n",
      "True\n",
      "(351,)\n",
      "(351, 10, 512, 1)\n",
      "(2973, 10, 512, 1)\n",
      "Result on test set for taregt domain: accuracy: 92.26%\n",
      "True\n",
      "(256,)\n",
      "(256, 10, 512, 1)\n",
      "(3052, 10, 512, 1)\n",
      "Result on test set for taregt domain: accuracy: 86.74%\n",
      "True\n",
      "(434,)\n",
      "(434, 10, 512, 1)\n",
      "(2839, 10, 512, 1)\n",
      "Result on test set for taregt domain: accuracy: 95.26%\n",
      "True\n",
      "(144,)\n",
      "(144, 10, 512, 1)\n",
      "(2897, 10, 512, 1)\n",
      "Result on test set for taregt domain: accuracy: 93.29%\n",
      "True\n",
      "(213,)\n",
      "(213, 10, 512, 1)\n",
      "(2961, 10, 512, 1)\n",
      "Result on test set for taregt domain: accuracy: 98.39%\n",
      "True\n",
      "(53,)\n",
      "(53, 10, 512, 1)\n",
      "(3241, 10, 512, 1)\n",
      "Result on test set for taregt domain: accuracy: 91.27%\n",
      "True\n",
      "(284,)\n",
      "(284, 10, 512, 1)\n",
      "(2970, 10, 512, 1)\n"
     ]
    }
   ],
   "source": [
    "Xtest_error=[]\n",
    "Xtest_correct=[]\n",
    "for patient in range(11):\n",
    "    #patient 0\n",
    "    saved_model = load_model(root_path+'/resources/Conv1D/Conv1D_pat_{}.h5'.format(patient), custom_objects={'RReLU': RReLU})\n",
    "    #saved_model.summary()\n",
    "    Xtest=Xtestset[patient]\n",
    "    ytest=Ytestset[patient]-1\n",
    "    ytestcat=to_categorical(ytest,8)\n",
    "    # evaluate the model\n",
    "    scores = saved_model.evaluate(Xtest, ytestcat, verbose=0)\n",
    "    print(\"Result on test set for taregt domain: %s: %.2f%%\" % (saved_model.metrics_names[1], scores[1] * 100))\n",
    "    preds=saved_model.predict(Xtest)\n",
    "    preds_value=np.argmax((preds), axis=1)\n",
    "    print(preds_value.shape==ytest.shape)\n",
    "    indexes=np.where(ytest!=preds_value)\n",
    "    print(indexes[0].shape)\n",
    "    xtesterr=Xtest[indexes]\n",
    "    xtestcorr=Xtest[np.where(ytest==preds_value)]\n",
    "    print(xtesterr.shape)\n",
    "    print(xtestcorr.shape)\n",
    "    \n",
    "    Xtest_error.append(xtesterr)\n",
    "    Xtest_correct.append(xtestcorr)"
   ]
  },
  {
   "cell_type": "code",
   "execution_count": 6,
   "metadata": {},
   "outputs": [],
   "source": [
    "with open(root_path+'/resources/data_deep/Xtest_correct_ordered.pkl',\n",
    "          'wb') as f:\n",
    "          pickle.dump(Xtest_correct, f)"
   ]
  },
  {
   "cell_type": "code",
   "execution_count": 7,
   "metadata": {
    "scrolled": true
   },
   "outputs": [],
   "source": [
    "with open(root_path+'/resources/data_deep/Xtest_error_ordered.pkl',\n",
    "          'wb') as f:\n",
    "          pickle.dump(Xtest_error, f)"
   ]
  },
  {
   "cell_type": "code",
   "execution_count": 8,
   "metadata": {},
   "outputs": [
    {
     "output_type": "stream",
     "name": "stdout",
     "text": [
      "11\n[(3072, 10, 512, 1), (3137, 10, 512, 1), (2876, 10, 512, 1), (2783, 10, 512, 1), (2973, 10, 512, 1), (3052, 10, 512, 1), (2839, 10, 512, 1), (2897, 10, 512, 1), (2961, 10, 512, 1), (3241, 10, 512, 1), (2970, 10, 512, 1)]\n"
     ]
    }
   ],
   "source": [
    "with open(root_path+'/resources/data_deep/Xtest_correct_ordered.pkl', 'rb') as f:\n",
    "    temp = pickle.load(f)\n",
    "print(len(temp))\n",
    "shapes=[temp[i].shape for i in range(len(temp))]\n",
    "print(shapes)"
   ]
  },
  {
   "cell_type": "code",
   "execution_count": 46,
   "metadata": {},
   "outputs": [
    {
     "name": "stdout",
     "output_type": "stream",
     "text": [
      "(225,)\n"
     ]
    }
   ],
   "source": []
  },
  {
   "cell_type": "code",
   "execution_count": 75,
   "metadata": {},
   "outputs": [
    {
     "name": "stdout",
     "output_type": "stream",
     "text": [
      "[1 2]\n",
      "[6 5]\n"
     ]
    }
   ],
   "source": [
    "a=np.array([1,2,3,4,5,6])\n",
    "indexes=np.array([0,1])\n",
    "b=a[indexes]\n",
    "print(b)\n",
    "c=a[~indexes]\n",
    "print(c)"
   ]
  },
  {
   "cell_type": "code",
   "execution_count": 41,
   "metadata": {},
   "outputs": [
    {
     "data": {
      "text/plain": [
       "(225, 10, 512, 1)"
      ]
     },
     "execution_count": 41,
     "metadata": {},
     "output_type": "execute_result"
    }
   ],
   "source": [
    "xtesterr.shape"
   ]
  },
  {
   "cell_type": "code",
   "execution_count": 78,
   "metadata": {},
   "outputs": [
    {
     "name": "stdout",
     "output_type": "stream",
     "text": [
      "[3 4 5 6]\n"
     ]
    }
   ],
   "source": [
    "c=np.delete(a, indexes)\n",
    "print(c)"
   ]
  },
  {
   "cell_type": "code",
   "execution_count": null,
   "metadata": {},
   "outputs": [],
   "source": []
  }
 ],
 "metadata": {
  "kernelspec": {
   "display_name": "Python 3",
   "language": "python",
   "name": "python3"
  },
  "language_info": {
   "codemirror_mode": {
    "name": "ipython",
    "version": 3
   },
   "file_extension": ".py",
   "mimetype": "text/x-python",
   "name": "python",
   "nbconvert_exporter": "python",
   "pygments_lexer": "ipython3",
   "version": "3.6.9-final"
  }
 },
 "nbformat": 4,
 "nbformat_minor": 4
}