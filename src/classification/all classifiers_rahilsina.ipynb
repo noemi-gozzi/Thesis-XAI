{
 "cells": [
  {
   "cell_type": "markdown",
   "metadata": {},
   "source": [
    "## Import libraries"
   ]
  },
  {
   "cell_type": "code",
   "execution_count": 2,
   "metadata": {},
   "outputs": [],
   "source": [
    "# the library versions this code employed is mentioned in comments, if something doesn't work change your package versions\n",
    "# to these ones, especially sklearn\n",
    "\n",
    "import pandas as pd # version 0.24.2\n",
    "import numpy as np #version 1.16.4\n",
    "import random\n",
    "import matplotlib.pyplot as plt #matplotlib version 3.1.0\n",
    "from sklearn.preprocessing import StandardScaler\n",
    "from sklearn.neighbors import KNeighborsClassifier\n",
    "from sklearn.neural_network import MLPClassifier\n",
    "from sklearn.naive_bayes import GaussianNB\n",
    "from sklearn.discriminant_analysis import LinearDiscriminantAnalysis\n",
    "from sklearn.svm import SVC\n",
    "from sklearn import metrics\n",
    "from sklearn.metrics import confusion_matrix\n",
    "from sklearn.metrics import classification_report\n",
    "import seaborn as sns #version 0.9.0\n",
    "from sklearn.model_selection import GridSearchCV\n",
    "import pickle"
   ]
  },
  {
   "cell_type": "code",
   "execution_count": null,
   "metadata": {},
   "outputs": [],
   "source": [
    "import sklearn\n",
    "print(sklearn.__version__) # this code works with sklearn 0.21.2"
   ]
  },
  {
   "cell_type": "markdown",
   "metadata": {},
   "source": [
    "## Load datasets"
   ]
  },
  {
   "cell_type": "code",
   "execution_count": 3,
   "metadata": {},
   "outputs": [
    {
     "name": "stdout",
     "output_type": "stream",
     "text": [
      "Subject1\n",
      "Round1 (2755, 152)\n",
      "Round2 (2880, 152)\n",
      "round3 (2588, 152)\n"
     ]
    }
   ],
   "source": [
    "# this version of database had 15 features for each channel (in total 10 channel) making 150 features\n",
    "# for each subject we have 3 seperate databases for 3 rounds\n",
    "N_Subj = 11 # 11 subjects\n",
    "df_r1= [0] * N_Subj # dataframe for round1 for all subjects\n",
    "df_r2= [0] * N_Subj # dataframe for round2 for all subjects\n",
    "df_r3= [0] * N_Subj # dataframe for round3 for all subjects\n",
    "\n",
    "# making a column name for dataframe\n",
    "# the database is organized in the way that first feature of all 10 channels are at the beginning, then the second feature for all channels and so on\n",
    "cl_names= []\n",
    "for i in range(1,11):\n",
    "    cl_names.append('MAV'+str(i))\n",
    "for i in range(1,11):\n",
    "    cl_names.append('ZC'+str(i))\n",
    "for i in range(1,11):\n",
    "    cl_names.append('SSC'+str(i))\n",
    "for i in range(1,11):\n",
    "    cl_names.append('WL'+str(i))\n",
    "for i in range(1,11):\n",
    "    cl_names.append('HP_A'+str(i))\n",
    "for i in range(1,11):\n",
    "    cl_names.append('HP_M'+str(i))\n",
    "for i in range(1,11):\n",
    "    cl_names.append('HP_C'+str(i))\n",
    "for i in range(1,11):\n",
    "    cl_names.append('SE'+str(i))\n",
    "for i in range(1,11):\n",
    "    cl_names.append('CCI_'+str(i))\n",
    "for i in range(1,11):\n",
    "    cl_names.append('CCII_'+str(i))\n",
    "for i in range(1,11):\n",
    "    cl_names.append('CCIII_'+str(i))\n",
    "for i in range(1,11):\n",
    "    cl_names.append('CCIV_'+str(i))\n",
    "for i in range(1,11):\n",
    "    cl_names.append('RMS'+str(i))    \n",
    "for i in range(1,11):\n",
    "    cl_names.append('IEMG'+str(i))\n",
    "for i in range(1,11):\n",
    "    cl_names.append('SKEW'+str(i))\n",
    "    \n",
    "cl_names.append('class') #column dedicated to show which class of movement this sample belongs to\n",
    "cl_names.append('move') #column dedicated to show which number of movement (out of 40 in each round) this sample belongs to\n",
    "\n",
    "#loading sepearte databases for each round and subject\n",
    "for i in range(0,N_Subj):\n",
    "    df_r1[i] = pd.read_csv('database_v2_sbj'+str(i+1)+'_s1_WL512_S128_r1.csv')\n",
    "    df_r1[i].columns=cl_names\n",
    "    \n",
    "    df_r2[i] = pd.read_csv('database_v2_sbj'+str(i+1)+'_s1_WL512_S128_r2.csv')\n",
    "    df_r2[i].columns=cl_names\n",
    "    \n",
    "    df_r3[i] = pd.read_csv('database_v2_sbj'+str(i+1)+'_s1_WL512_S128_r3.csv')\n",
    "    df_r3[i].columns=cl_names\n",
    "\n",
    "print(\"Subject1\")\n",
    "print(\"Round1\",np.shape(df_r1[0]))\n",
    "print(\"Round2\",np.shape(df_r2[0]))\n",
    "print(\"round3\",np.shape(df_r3[0]))"
   ]
  },
  {
   "cell_type": "code",
   "execution_count": 4,
   "metadata": {},
   "outputs": [
    {
     "name": "stdout",
     "output_type": "stream",
     "text": [
      "MAV1      float64\n",
      "MAV2      float64\n",
      "MAV3      float64\n",
      "MAV4      float64\n",
      "MAV5      float64\n",
      "MAV6      float64\n",
      "MAV7      float64\n",
      "MAV8      float64\n",
      "MAV9      float64\n",
      "MAV10     float64\n",
      "ZC1         int64\n",
      "ZC2         int64\n",
      "ZC3         int64\n",
      "ZC4         int64\n",
      "ZC5         int64\n",
      "ZC6         int64\n",
      "ZC7         int64\n",
      "ZC8         int64\n",
      "ZC9         int64\n",
      "ZC10        int64\n",
      "SSC1        int64\n",
      "SSC2        int64\n",
      "SSC3        int64\n",
      "SSC4        int64\n",
      "SSC5        int64\n",
      "SSC6        int64\n",
      "SSC7        int64\n",
      "SSC8        int64\n",
      "SSC9        int64\n",
      "SSC10       int64\n",
      "           ...   \n",
      "RMS3      float64\n",
      "RMS4      float64\n",
      "RMS5      float64\n",
      "RMS6      float64\n",
      "RMS7      float64\n",
      "RMS8      float64\n",
      "RMS9      float64\n",
      "RMS10     float64\n",
      "IEMG1     float64\n",
      "IEMG2     float64\n",
      "IEMG3     float64\n",
      "IEMG4     float64\n",
      "IEMG5     float64\n",
      "IEMG6     float64\n",
      "IEMG7     float64\n",
      "IEMG8     float64\n",
      "IEMG9     float64\n",
      "IEMG10    float64\n",
      "SKEW1     float64\n",
      "SKEW2     float64\n",
      "SKEW3     float64\n",
      "SKEW4     float64\n",
      "SKEW5     float64\n",
      "SKEW6     float64\n",
      "SKEW7     float64\n",
      "SKEW8     float64\n",
      "SKEW9     float64\n",
      "SKEW10    float64\n",
      "class       int64\n",
      "move        int64\n",
      "Length: 152, dtype: object\n"
     ]
    },
    {
     "data": {
      "text/html": [
       "<div>\n",
       "<style scoped>\n",
       "    .dataframe tbody tr th:only-of-type {\n",
       "        vertical-align: middle;\n",
       "    }\n",
       "\n",
       "    .dataframe tbody tr th {\n",
       "        vertical-align: top;\n",
       "    }\n",
       "\n",
       "    .dataframe thead th {\n",
       "        text-align: right;\n",
       "    }\n",
       "</style>\n",
       "<table border=\"1\" class=\"dataframe\">\n",
       "  <thead>\n",
       "    <tr style=\"text-align: right;\">\n",
       "      <th></th>\n",
       "      <th>MAV1</th>\n",
       "      <th>MAV2</th>\n",
       "      <th>MAV3</th>\n",
       "      <th>MAV4</th>\n",
       "      <th>MAV5</th>\n",
       "      <th>MAV6</th>\n",
       "      <th>MAV7</th>\n",
       "      <th>MAV8</th>\n",
       "      <th>MAV9</th>\n",
       "      <th>MAV10</th>\n",
       "      <th>...</th>\n",
       "      <th>SKEW3</th>\n",
       "      <th>SKEW4</th>\n",
       "      <th>SKEW5</th>\n",
       "      <th>SKEW6</th>\n",
       "      <th>SKEW7</th>\n",
       "      <th>SKEW8</th>\n",
       "      <th>SKEW9</th>\n",
       "      <th>SKEW10</th>\n",
       "      <th>class</th>\n",
       "      <th>move</th>\n",
       "    </tr>\n",
       "  </thead>\n",
       "  <tbody>\n",
       "    <tr>\n",
       "      <th>0</th>\n",
       "      <td>0.011440</td>\n",
       "      <td>0.007049</td>\n",
       "      <td>0.007343</td>\n",
       "      <td>0.040629</td>\n",
       "      <td>0.012729</td>\n",
       "      <td>0.017786</td>\n",
       "      <td>0.013964</td>\n",
       "      <td>0.029614</td>\n",
       "      <td>0.022596</td>\n",
       "      <td>0.009105</td>\n",
       "      <td>...</td>\n",
       "      <td>0.318860</td>\n",
       "      <td>0.23952</td>\n",
       "      <td>0.039047</td>\n",
       "      <td>-0.637670</td>\n",
       "      <td>-1.401700</td>\n",
       "      <td>-0.536760</td>\n",
       "      <td>1.109600</td>\n",
       "      <td>0.280630</td>\n",
       "      <td>8</td>\n",
       "      <td>36</td>\n",
       "    </tr>\n",
       "    <tr>\n",
       "      <th>1</th>\n",
       "      <td>0.047077</td>\n",
       "      <td>0.034412</td>\n",
       "      <td>0.019688</td>\n",
       "      <td>0.095069</td>\n",
       "      <td>0.094247</td>\n",
       "      <td>0.144480</td>\n",
       "      <td>0.051746</td>\n",
       "      <td>0.060704</td>\n",
       "      <td>0.088419</td>\n",
       "      <td>0.061936</td>\n",
       "      <td>...</td>\n",
       "      <td>-0.070388</td>\n",
       "      <td>0.34692</td>\n",
       "      <td>0.213570</td>\n",
       "      <td>0.512390</td>\n",
       "      <td>-0.089661</td>\n",
       "      <td>-0.120520</td>\n",
       "      <td>0.109120</td>\n",
       "      <td>0.409140</td>\n",
       "      <td>8</td>\n",
       "      <td>5</td>\n",
       "    </tr>\n",
       "    <tr>\n",
       "      <th>2</th>\n",
       "      <td>0.032606</td>\n",
       "      <td>0.015454</td>\n",
       "      <td>0.011722</td>\n",
       "      <td>0.041959</td>\n",
       "      <td>0.095004</td>\n",
       "      <td>0.046755</td>\n",
       "      <td>0.033878</td>\n",
       "      <td>0.027089</td>\n",
       "      <td>0.101260</td>\n",
       "      <td>0.035861</td>\n",
       "      <td>...</td>\n",
       "      <td>0.118980</td>\n",
       "      <td>0.20484</td>\n",
       "      <td>0.068442</td>\n",
       "      <td>0.000578</td>\n",
       "      <td>0.327350</td>\n",
       "      <td>-0.110150</td>\n",
       "      <td>-0.027281</td>\n",
       "      <td>0.118570</td>\n",
       "      <td>5</td>\n",
       "      <td>6</td>\n",
       "    </tr>\n",
       "    <tr>\n",
       "      <th>3</th>\n",
       "      <td>0.015377</td>\n",
       "      <td>0.020118</td>\n",
       "      <td>0.009892</td>\n",
       "      <td>0.020248</td>\n",
       "      <td>0.051079</td>\n",
       "      <td>0.016831</td>\n",
       "      <td>0.011195</td>\n",
       "      <td>0.016046</td>\n",
       "      <td>0.027189</td>\n",
       "      <td>0.014337</td>\n",
       "      <td>...</td>\n",
       "      <td>-0.047136</td>\n",
       "      <td>0.14082</td>\n",
       "      <td>-0.371070</td>\n",
       "      <td>-0.108130</td>\n",
       "      <td>0.069448</td>\n",
       "      <td>-0.099661</td>\n",
       "      <td>-0.346300</td>\n",
       "      <td>0.237040</td>\n",
       "      <td>6</td>\n",
       "      <td>28</td>\n",
       "    </tr>\n",
       "    <tr>\n",
       "      <th>4</th>\n",
       "      <td>0.012313</td>\n",
       "      <td>0.014122</td>\n",
       "      <td>0.019198</td>\n",
       "      <td>0.087738</td>\n",
       "      <td>0.126720</td>\n",
       "      <td>0.032815</td>\n",
       "      <td>0.010385</td>\n",
       "      <td>0.034037</td>\n",
       "      <td>0.224500</td>\n",
       "      <td>0.018224</td>\n",
       "      <td>...</td>\n",
       "      <td>-0.035113</td>\n",
       "      <td>-0.42522</td>\n",
       "      <td>0.069521</td>\n",
       "      <td>0.263290</td>\n",
       "      <td>0.267010</td>\n",
       "      <td>-0.135760</td>\n",
       "      <td>-0.026827</td>\n",
       "      <td>0.323000</td>\n",
       "      <td>2</td>\n",
       "      <td>14</td>\n",
       "    </tr>\n",
       "    <tr>\n",
       "      <th>5</th>\n",
       "      <td>0.024255</td>\n",
       "      <td>0.031359</td>\n",
       "      <td>0.013659</td>\n",
       "      <td>0.034794</td>\n",
       "      <td>0.066356</td>\n",
       "      <td>0.018987</td>\n",
       "      <td>0.018291</td>\n",
       "      <td>0.029561</td>\n",
       "      <td>0.038092</td>\n",
       "      <td>0.019897</td>\n",
       "      <td>...</td>\n",
       "      <td>-0.419130</td>\n",
       "      <td>0.50191</td>\n",
       "      <td>-0.670990</td>\n",
       "      <td>0.127950</td>\n",
       "      <td>-0.144300</td>\n",
       "      <td>-0.395270</td>\n",
       "      <td>0.142920</td>\n",
       "      <td>-0.141420</td>\n",
       "      <td>7</td>\n",
       "      <td>20</td>\n",
       "    </tr>\n",
       "    <tr>\n",
       "      <th>6</th>\n",
       "      <td>0.007872</td>\n",
       "      <td>0.007103</td>\n",
       "      <td>0.009197</td>\n",
       "      <td>0.042481</td>\n",
       "      <td>0.097330</td>\n",
       "      <td>0.020678</td>\n",
       "      <td>0.008299</td>\n",
       "      <td>0.015294</td>\n",
       "      <td>0.120970</td>\n",
       "      <td>0.014435</td>\n",
       "      <td>...</td>\n",
       "      <td>0.259100</td>\n",
       "      <td>0.10333</td>\n",
       "      <td>0.048375</td>\n",
       "      <td>-0.349530</td>\n",
       "      <td>-0.592230</td>\n",
       "      <td>-0.122360</td>\n",
       "      <td>0.261010</td>\n",
       "      <td>0.061718</td>\n",
       "      <td>2</td>\n",
       "      <td>30</td>\n",
       "    </tr>\n",
       "    <tr>\n",
       "      <th>7</th>\n",
       "      <td>0.054127</td>\n",
       "      <td>0.040739</td>\n",
       "      <td>0.028140</td>\n",
       "      <td>0.145410</td>\n",
       "      <td>0.091580</td>\n",
       "      <td>0.212510</td>\n",
       "      <td>0.078169</td>\n",
       "      <td>0.078086</td>\n",
       "      <td>0.105670</td>\n",
       "      <td>0.083278</td>\n",
       "      <td>...</td>\n",
       "      <td>0.423170</td>\n",
       "      <td>0.17383</td>\n",
       "      <td>0.376420</td>\n",
       "      <td>0.072196</td>\n",
       "      <td>-0.787140</td>\n",
       "      <td>0.065149</td>\n",
       "      <td>-0.273930</td>\n",
       "      <td>0.342480</td>\n",
       "      <td>8</td>\n",
       "      <td>5</td>\n",
       "    </tr>\n",
       "    <tr>\n",
       "      <th>8</th>\n",
       "      <td>0.022851</td>\n",
       "      <td>0.030370</td>\n",
       "      <td>0.016029</td>\n",
       "      <td>0.050820</td>\n",
       "      <td>0.069157</td>\n",
       "      <td>0.017366</td>\n",
       "      <td>0.017194</td>\n",
       "      <td>0.037149</td>\n",
       "      <td>0.032328</td>\n",
       "      <td>0.017056</td>\n",
       "      <td>...</td>\n",
       "      <td>0.147890</td>\n",
       "      <td>0.29822</td>\n",
       "      <td>-0.105220</td>\n",
       "      <td>0.072432</td>\n",
       "      <td>-0.023623</td>\n",
       "      <td>-0.159720</td>\n",
       "      <td>0.139350</td>\n",
       "      <td>-0.192820</td>\n",
       "      <td>7</td>\n",
       "      <td>20</td>\n",
       "    </tr>\n",
       "    <tr>\n",
       "      <th>9</th>\n",
       "      <td>0.006650</td>\n",
       "      <td>0.004515</td>\n",
       "      <td>0.004592</td>\n",
       "      <td>0.006869</td>\n",
       "      <td>0.024242</td>\n",
       "      <td>0.018317</td>\n",
       "      <td>0.009985</td>\n",
       "      <td>0.005204</td>\n",
       "      <td>0.011072</td>\n",
       "      <td>0.008729</td>\n",
       "      <td>...</td>\n",
       "      <td>0.028861</td>\n",
       "      <td>-0.10196</td>\n",
       "      <td>-0.334590</td>\n",
       "      <td>0.003074</td>\n",
       "      <td>0.274650</td>\n",
       "      <td>0.192700</td>\n",
       "      <td>-0.106770</td>\n",
       "      <td>0.019649</td>\n",
       "      <td>3</td>\n",
       "      <td>39</td>\n",
       "    </tr>\n",
       "  </tbody>\n",
       "</table>\n",
       "<p>10 rows × 152 columns</p>\n",
       "</div>"
      ],
      "text/plain": [
       "       MAV1      MAV2      MAV3      MAV4      MAV5      MAV6      MAV7  \\\n",
       "0  0.011440  0.007049  0.007343  0.040629  0.012729  0.017786  0.013964   \n",
       "1  0.047077  0.034412  0.019688  0.095069  0.094247  0.144480  0.051746   \n",
       "2  0.032606  0.015454  0.011722  0.041959  0.095004  0.046755  0.033878   \n",
       "3  0.015377  0.020118  0.009892  0.020248  0.051079  0.016831  0.011195   \n",
       "4  0.012313  0.014122  0.019198  0.087738  0.126720  0.032815  0.010385   \n",
       "5  0.024255  0.031359  0.013659  0.034794  0.066356  0.018987  0.018291   \n",
       "6  0.007872  0.007103  0.009197  0.042481  0.097330  0.020678  0.008299   \n",
       "7  0.054127  0.040739  0.028140  0.145410  0.091580  0.212510  0.078169   \n",
       "8  0.022851  0.030370  0.016029  0.050820  0.069157  0.017366  0.017194   \n",
       "9  0.006650  0.004515  0.004592  0.006869  0.024242  0.018317  0.009985   \n",
       "\n",
       "       MAV8      MAV9     MAV10  ...     SKEW3    SKEW4     SKEW5     SKEW6  \\\n",
       "0  0.029614  0.022596  0.009105  ...  0.318860  0.23952  0.039047 -0.637670   \n",
       "1  0.060704  0.088419  0.061936  ... -0.070388  0.34692  0.213570  0.512390   \n",
       "2  0.027089  0.101260  0.035861  ...  0.118980  0.20484  0.068442  0.000578   \n",
       "3  0.016046  0.027189  0.014337  ... -0.047136  0.14082 -0.371070 -0.108130   \n",
       "4  0.034037  0.224500  0.018224  ... -0.035113 -0.42522  0.069521  0.263290   \n",
       "5  0.029561  0.038092  0.019897  ... -0.419130  0.50191 -0.670990  0.127950   \n",
       "6  0.015294  0.120970  0.014435  ...  0.259100  0.10333  0.048375 -0.349530   \n",
       "7  0.078086  0.105670  0.083278  ...  0.423170  0.17383  0.376420  0.072196   \n",
       "8  0.037149  0.032328  0.017056  ...  0.147890  0.29822 -0.105220  0.072432   \n",
       "9  0.005204  0.011072  0.008729  ...  0.028861 -0.10196 -0.334590  0.003074   \n",
       "\n",
       "      SKEW7     SKEW8     SKEW9    SKEW10  class  move  \n",
       "0 -1.401700 -0.536760  1.109600  0.280630      8    36  \n",
       "1 -0.089661 -0.120520  0.109120  0.409140      8     5  \n",
       "2  0.327350 -0.110150 -0.027281  0.118570      5     6  \n",
       "3  0.069448 -0.099661 -0.346300  0.237040      6    28  \n",
       "4  0.267010 -0.135760 -0.026827  0.323000      2    14  \n",
       "5 -0.144300 -0.395270  0.142920 -0.141420      7    20  \n",
       "6 -0.592230 -0.122360  0.261010  0.061718      2    30  \n",
       "7 -0.787140  0.065149 -0.273930  0.342480      8     5  \n",
       "8 -0.023623 -0.159720  0.139350 -0.192820      7    20  \n",
       "9  0.274650  0.192700 -0.106770  0.019649      3    39  \n",
       "\n",
       "[10 rows x 152 columns]"
      ]
     },
     "execution_count": 4,
     "metadata": {},
     "output_type": "execute_result"
    }
   ],
   "source": [
    "# print(df_r1[10].dtypes)\n",
    "df_r1[0].head(10)"
   ]
  },
  {
   "cell_type": "code",
   "execution_count": 22,
   "metadata": {},
   "outputs": [],
   "source": [
    "# # just for visualization, not important\n",
    "# #Print class freq for each round of subject 1\n",
    "# target_dist=df_r1[0].groupby('class').size()\n",
    "# print(\"round1 class distribution\")\n",
    "# print(target_dist)\n",
    "\n",
    "# target_dist=df_r2[0].groupby('class').size()\n",
    "# print(\"round2 class distribution\")\n",
    "# print(target_dist)\n",
    "\n",
    "# target_dist=df_r3[0].groupby('class').size()\n",
    "# print(\"round3 class distribution\")\n",
    "# print(target_dist)"
   ]
  },
  {
   "cell_type": "markdown",
   "metadata": {},
   "source": [
    "# Train and Test"
   ]
  },
  {
   "cell_type": "code",
   "execution_count": 5,
   "metadata": {},
   "outputs": [
    {
     "name": "stdout",
     "output_type": "stream",
     "text": [
      "Subject1:\n",
      "round 1 whole dataset: (2887, 152)\n",
      "round 1 test dataset: (1155, 151)\n",
      "round 1 train dataset: (1732, 151)\n",
      "round 2 whole dataset: (2775, 152)\n",
      "round 2 test dataset: (1118, 151)\n",
      "round 2 train dataset: (1657, 151)\n",
      "round 3 whole dataset: (2498, 152)\n",
      "round 3 test dataset: (1024, 151)\n",
      "round 3 train dataset: (1474, 151)\n"
     ]
    }
   ],
   "source": [
    "# in each round for each movement we have almost 5 repetitions,\n",
    "# we keep 2/3 of repetitions for train and rest for test\n",
    "\n",
    "train_df_r1 = [pd.DataFrame(columns=cl_names)]*N_Subj\n",
    "test_df_r1 = [pd.DataFrame(columns=cl_names)]*N_Subj\n",
    "train_df_r2 = [pd.DataFrame(columns=cl_names)]*N_Subj\n",
    "test_df_r2 = [pd.DataFrame(columns=cl_names)]*N_Subj\n",
    "train_df_r3 = [pd.DataFrame(columns=cl_names)]*N_Subj\n",
    "test_df_r3 = [pd.DataFrame(columns=cl_names)]*N_Subj\n",
    "\n",
    "# 3 seperate for for the rounds:\n",
    "# round1:\n",
    "for s in range(0,N_Subj): # for each subject we do:\n",
    "    df = df_r1[s]\n",
    "    for i in range(1,9):\n",
    "        class_group = df.loc[df['class'] == i] # first we keep all the samples belonging to movement class number i\n",
    "        class_group.index = range(class_group.shape[0]) # how many samples are in class i (range)\n",
    "        target_dist = class_group.groupby(['move']).size() # how many times the movement i was repeated (it can be 5,4,3)\n",
    "        # this depends on if the subject performed a movemnt we eliminated it from database so some of movements instead of having 5 repetitions have less!\n",
    "        \n",
    "        mv_indx = target_dist.index\n",
    "        train_size = int((2/3)*len(mv_indx)) # 2/3 of number of repetitions is for training. e.g. if 5 times was repeated we keep 3 for training rest for test\n",
    "        train_mv = mv_indx[0:train_size]\n",
    "        for j in train_mv:\n",
    "            train_df_r1[s] = train_df_r1[s].append(class_group.loc[class_group['move'] == j], ignore_index=True)#adding to trainset 2/3 of repetitions of one movement\n",
    "        test_mv = mv_indx[train_size:]\n",
    "        for k in test_mv:\n",
    "            test_df_r1[s] = test_df_r1[s].append(class_group.loc[class_group['move'] == k], ignore_index=True)# adding to test set rest of the movement repetitions\n",
    "        \n",
    "    train_df_r1[s] = train_df_r1[s].astype(float)\n",
    "    train_df_r1[s]['class'] = train_df_r1[s]['class'].astype(int)\n",
    "    test_df_r1[s] = test_df_r1[s].astype(float)\n",
    "    test_df_r1[s]['class'] = test_df_r1[s]['class'].astype(int)\n",
    "    \n",
    "    #train and test set no longer need the 'move' column\n",
    "    train_df_r1[s].drop('move',inplace=True,axis=1) \n",
    "    test_df_r1[s].drop('move',inplace=True,axis=1)\n",
    "    \n",
    "print(\"Subject1:\")\n",
    "print(\"round 1 whole dataset:\",df_r1[0].shape)\n",
    "print(\"round 1 test dataset:\",test_df_r1[0].shape)\n",
    "print(\"round 1 train dataset:\",train_df_r1[0].shape)\n",
    "\n",
    "# round2:\n",
    "for s in range(0,N_Subj):\n",
    "    df = df_r2[s]\n",
    "    for i in range(1,9):\n",
    "        class_group = df.loc[df['class'] == i]\n",
    "        class_group.index = range(class_group.shape[0])\n",
    "        target_dist = class_group.groupby(['move']).size()\n",
    "        mv_indx = target_dist.index\n",
    "        train_size = int((2/3)*len(mv_indx))\n",
    "        train_mv = mv_indx[0:train_size]\n",
    "        for j in train_mv:\n",
    "            train_df_r2[s] = train_df_r2[s].append(class_group.loc[class_group['move'] == j], ignore_index=True)\n",
    "        test_mv = mv_indx[train_size:]\n",
    "        for k in test_mv:\n",
    "            test_df_r2[s] = test_df_r2[s].append(class_group.loc[class_group['move'] == k], ignore_index=True)\n",
    "        \n",
    "    train_df_r2[s] = train_df_r2[s].astype(float)\n",
    "    train_df_r2[s]['class'] = train_df_r2[s]['class'].astype(int)\n",
    "    test_df_r2[s] = test_df_r2[s].astype(float)\n",
    "    test_df_r2[s]['class'] = test_df_r2[s]['class'].astype(int)\n",
    "    train_df_r2[s].drop('move',inplace=True,axis=1)\n",
    "    test_df_r2[s].drop('move',inplace=True,axis=1)\n",
    "\n",
    "print(\"round 2 whole dataset:\",df_r2[0].shape)\n",
    "print(\"round 2 test dataset:\",test_df_r2[0].shape)\n",
    "print(\"round 2 train dataset:\",train_df_r2[0].shape)\n",
    "\n",
    "# round3:\n",
    "for s in range(0,N_Subj):\n",
    "    df = df_r3[s]\n",
    "    for i in range(1,9):\n",
    "        class_group = df.loc[df['class'] == i]\n",
    "        class_group.index = range(class_group.shape[0])\n",
    "        target_dist = class_group.groupby(['move']).size()\n",
    "        mv_indx = target_dist.index\n",
    "        train_size = int((2/3)*len(mv_indx))\n",
    "        train_mv = mv_indx[0:train_size]\n",
    "        for j in train_mv:\n",
    "            train_df_r3[s] = train_df_r3[s].append(class_group.loc[class_group['move'] == j], ignore_index=True)\n",
    "        test_mv = mv_indx[train_size:]\n",
    "        for k in test_mv:\n",
    "            test_df_r3[s] = test_df_r3[s].append(class_group.loc[class_group['move'] == k], ignore_index=True)\n",
    "        \n",
    "    train_df_r3[s] = train_df_r3[s].astype(float)\n",
    "    train_df_r3[s]['class'] = train_df_r3[s]['class'].astype(int)\n",
    "    test_df_r3[s] = test_df_r3[s].astype(float)\n",
    "    test_df_r3[s]['class'] = test_df_r3[s]['class'].astype(int)\n",
    "    train_df_r3[s].drop('move',inplace=True,axis=1)\n",
    "    test_df_r3[s].drop('move',inplace=True,axis=1)\n",
    "\n",
    "print(\"round 3 whole dataset:\",df_r3[0].shape)\n",
    "print(\"round 3 test dataset:\",test_df_r3[0].shape)\n",
    "print(\"round 3 train dataset:\",train_df_r3[0].shape)"
   ]
  },
  {
   "cell_type": "markdown",
   "metadata": {},
   "source": [
    "## outlier"
   ]
  },
  {
   "cell_type": "code",
   "execution_count": 6,
   "metadata": {},
   "outputs": [
    {
     "data": {
      "text/plain": [
       "<matplotlib.axes._subplots.AxesSubplot at 0xbc78b38>"
      ]
     },
     "execution_count": 6,
     "metadata": {},
     "output_type": "execute_result"
    },
    {
     "data": {
      "image/png": "[encoded data removed]",
      "text/plain": [
       "<Figure size 432x288 with 1 Axes>"
      ]
     },
     "metadata": {
      "needs_background": "light"
     },
     "output_type": "display_data"
    }
   ],
   "source": [
    "train_df_r1[2].iloc[:, :10].boxplot()"
   ]
  },
  {
   "cell_type": "code",
   "execution_count": 7,
   "metadata": {},
   "outputs": [
    {
     "name": "stdout",
     "output_type": "stream",
     "text": [
      "Subject1:\n",
      "round1 train data: (1732, 151)\n",
      "round1 cleaned train data (1570, 151)\n",
      "round2 train data: (1657, 151)\n",
      "round2 cleaned train data (1490, 151)\n",
      "round3 train data: (1474, 151)\n",
      "round3 cleaned train data (1338, 151)\n"
     ]
    }
   ],
   "source": [
    "# outlier detection based on only two features: WL and MAV\n",
    "# cleaning train data\n",
    "train_df_r1_clean = [pd.DataFrame(columns=train_df_r1[0].columns)]*N_Subj\n",
    "train_df_r2_clean = [pd.DataFrame(columns=train_df_r1[0].columns)]*N_Subj\n",
    "train_df_r3_clean = [pd.DataFrame(columns=train_df_r1[0].columns)]*N_Subj\n",
    "\n",
    "#round 1:\n",
    "for s in range(0,N_Subj):\n",
    "    df = train_df_r1[s]\n",
    "    for i in range(1,9): #cleaning for each class of movement must be based only on the samples belonging to that class\n",
    "        class_group = df.loc[df['class'] == i]\n",
    "        mean = class_group.mean()\n",
    "        std = class_group.std()\n",
    "        x = 2.5 #threshold is considered 2.5 times of std\n",
    "        for j in range(1,11):\n",
    "            class_group = class_group[ np.abs(class_group['MAV'+str(j)] - mean['MAV'+str(j)]) <= x * std['MAV'+str(j)]]\n",
    "            class_group = class_group[ np.abs(class_group['WL'+str(j)] - mean['WL'+str(j)]) <= x * std['WL'+str(j)]]\n",
    "        train_df_r1_clean[s] = train_df_r1_clean[s].append(class_group, ignore_index=True)\n",
    "    train_df_r1_clean[s]['class'] = train_df_r1_clean[s]['class'].astype(int)\n",
    "    \n",
    "print(\"Subject1:\")\n",
    "print(\"round1 train data:\",train_df_r1[0].shape)\n",
    "print(\"round1 cleaned train data\",train_df_r1_clean[0].shape)\n",
    "\n",
    "#round 2:\n",
    "for s in range(0,N_Subj):\n",
    "    df = train_df_r2[s]\n",
    "    for i in range(1,9):\n",
    "        class_group = df.loc[df['class'] == i]\n",
    "        mean = class_group.mean()\n",
    "        std = class_group.std()\n",
    "        x = 2.5\n",
    "        for j in range(1,11):\n",
    "            class_group = class_group[ np.abs(class_group['MAV'+str(j)] - mean['MAV'+str(j)]) <= x * std['MAV'+str(j)] ]\n",
    "            class_group = class_group[ np.abs(class_group['WL'+str(j)] - mean['WL'+str(j)]) <= x * std['WL'+str(j)]]\n",
    "        train_df_r2_clean[s] = train_df_r2_clean[s].append(class_group, ignore_index=True)\n",
    "    train_df_r2_clean[s]['class'] = train_df_r2_clean[s]['class'].astype(int)\n",
    "    \n",
    "print(\"round2 train data:\",train_df_r2[0].shape)\n",
    "print(\"round2 cleaned train data\",train_df_r2_clean[0].shape)\n",
    "\n",
    "#round 3:\n",
    "for s in range(0,N_Subj):\n",
    "    df = train_df_r3[s]\n",
    "    for i in range(1,9):\n",
    "        class_group = df.loc[df['class'] == i]\n",
    "        mean = class_group.mean()\n",
    "        std = class_group.std()\n",
    "        x = 2.5\n",
    "        for j in range(1,11):\n",
    "            class_group = class_group[ np.abs(class_group['MAV'+str(j)] - mean['MAV'+str(j)]) <= x * std['MAV'+str(j)] ]\n",
    "            class_group = class_group[ np.abs(class_group['WL'+str(j)] - mean['WL'+str(j)]) <= x * std['WL'+str(j)]]\n",
    "        train_df_r3_clean[s] = train_df_r3_clean[s].append(class_group, ignore_index=True)\n",
    "    train_df_r3_clean[s]['class'] = train_df_r3_clean[s]['class'].astype(int)\n",
    "\n",
    "print(\"round3 train data:\",train_df_r3[0].shape)\n",
    "print(\"round3 cleaned train data\",train_df_r3_clean[0].shape)"
   ]
  },
  {
   "cell_type": "code",
   "execution_count": 8,
   "metadata": {},
   "outputs": [
    {
     "data": {
      "text/plain": [
       "<matplotlib.axes._subplots.AxesSubplot at 0x145e0470>"
      ]
     },
     "execution_count": 8,
     "metadata": {},
     "output_type": "execute_result"
    },
    {
     "data": {
      "image/png": "[encoded data removed]",
      "text/plain": [
       "<Figure size 432x288 with 1 Axes>"
      ]
     },
     "metadata": {
      "needs_background": "light"
     },
     "output_type": "display_data"
    }
   ],
   "source": [
    "train_df_r1_clean[2].iloc[:, :10].boxplot()"
   ]
  },
  {
   "cell_type": "code",
   "execution_count": null,
   "metadata": {},
   "outputs": [],
   "source": [
    "# # #Visualize Class Counts\n",
    "\n",
    "# %matplotlib inline\n",
    "# plt.style.use('ggplot')\n",
    "# sns.countplot(y=train_df_r1_clean[0].iloc[:,-1] ,data=train_df_r1_clean[0].iloc[:,0:-1])\n",
    "# plt.xlabel(\"count of each class\")\n",
    "# plt.ylabel(\"classes\")\n",
    "# plt.show()"
   ]
  },
  {
   "cell_type": "code",
   "execution_count": null,
   "metadata": {},
   "outputs": [],
   "source": [
    "# Ch = list(range(0,10))+[150]\n",
    "# ch_s = train_df_r1[0].iloc[:, Ch]\n",
    "# plt.figure(figsize = (9,9))\n",
    "# sns.heatmap(data=ch_s.corr().round(2), cmap='coolwarm', linewidths=.2, annot=True, annot_kws={\"size\":12})\n",
    "# plt.show()"
   ]
  },
  {
   "cell_type": "markdown",
   "metadata": {},
   "source": [
    "### cross correlation"
   ]
  },
  {
   "cell_type": "code",
   "execution_count": null,
   "metadata": {},
   "outputs": [],
   "source": [
    "# to see the correlation between features, we perform this step, from this the CB featureset was chosen\n",
    "# keep_ind = [4,14,24,34,44,54,64,74,84,94,104,114,124,134,144]\n",
    "# droped = train_df_r1[0].iloc[:, keep_ind]\n",
    "# plt.figure(figsize = (9,9))\n",
    "# sns.heatmap(data=droped.corr().round(2), cmap='coolwarm', linewidths=.2, annot=True, annot_kws={\"size\":12})\n",
    "# plt.show()"
   ]
  },
  {
   "cell_type": "markdown",
   "metadata": {},
   "source": [
    "## define feature sets"
   ]
  },
  {
   "cell_type": "code",
   "execution_count": 74,
   "metadata": {},
   "outputs": [],
   "source": [
    "# features: MAV, ZC, SSC, WL, HP-A, HP-M, HP-C, SE, CCI, CCII, CCIII, CCIV, RMS, IEMG, SKEW\n",
    "TD = list(range(0,40)) #MAV,ZC,SSC,WL\n",
    "ITD = list(range(0,70))+list(range(120,140)) #MAV, ZC, SSC, WL, HP-A, HP-M, HP-C,RMS,IEMG\n",
    "CB = list(range(10,40)) + list(range(50,90)) #ZC, SSC, WL, HP_M. HP_C, ,SE, CC1 \n",
    "full = list(range(0,150))\n",
    "\n",
    "Samp_pipline = list(range(30,40))+list(range(70,90))+list(range(120,130)) #WL,SE,CCI,IEMG\n",
    "HP = list(range(40,70))\n",
    "good = list(range(30,40)) + list(range(50,70))\n",
    "opt = list(range(30,40)) + list(range(50,70)) + list(range(80,90)) #WL, HP-M, HP-C, CCI\n",
    "full_skew = list(range(0,140))\n",
    "\n",
    "\n",
    "f_set = ITD # this should be changed when you want to use different feature set (and following cells must be executed again)\n",
    "f_name = \"full\" # this will be used if you want to save the scaler model and trained model for future used"
   ]
  },
  {
   "cell_type": "markdown",
   "metadata": {},
   "source": [
    "## X and Y seperation"
   ]
  },
  {
   "cell_type": "code",
   "execution_count": 76,
   "metadata": {},
   "outputs": [
    {
     "name": "stdout",
     "output_type": "stream",
     "text": [
      "Subject1:\n",
      "train cleaned: (1570, 90) test (1155, 90)\n",
      "train not cleaned: (1732, 90)\n"
     ]
    }
   ],
   "source": [
    "# after changing feature set this cell and following ones must be executed again\n",
    "#extract x and y for training and testing sets\n",
    "X_train_r1 = [0]*N_Subj\n",
    "X_train_r2 = [0]*N_Subj\n",
    "X_train_r3 = [0]*N_Subj\n",
    "\n",
    "y_train_r1 = [0]*N_Subj\n",
    "y_train_r2 = [0]*N_Subj\n",
    "y_train_r3 = [0]*N_Subj\n",
    "\n",
    "X_test_r1 = [0]*N_Subj\n",
    "X_test_r2 = [0]*N_Subj\n",
    "X_test_r3 = [0]*N_Subj\n",
    "\n",
    "y_test_r1 = [0]*N_Subj\n",
    "y_test_r2 = [0]*N_Subj\n",
    "y_test_r3 = [0]*N_Subj\n",
    "\n",
    "for s in range(0,N_Subj):\n",
    "    X_train_r1[s] = train_df_r1_clean[s].iloc[:,f_set]\n",
    "    X_train_r2[s] = train_df_r2_clean[s].iloc[:,f_set]\n",
    "    X_train_r3[s] = train_df_r3_clean[s].iloc[:,f_set]\n",
    "    y_train_r1[s] = train_df_r1_clean[s].iloc[:,-1]\n",
    "    y_train_r2[s] = train_df_r2_clean[s].iloc[:,-1]\n",
    "    y_train_r3[s] = train_df_r3_clean[s].iloc[:,-1]\n",
    "    \n",
    "    X_test_r1[s] = test_df_r1[s].iloc[:,f_set]\n",
    "    y_test_r1[s] = test_df_r1[s].iloc[:,-1]\n",
    "    y_test_r1[s] = y_test_r1[s].astype(int)\n",
    "    X_test_r2[s] = test_df_r2[s].iloc[:,f_set]\n",
    "    y_test_r2[s] = test_df_r2[s].iloc[:,-1]\n",
    "    y_test_r2[s] = y_test_r2[s].astype(int)\n",
    "    X_test_r3[s] = test_df_r3[s].iloc[:,f_set]\n",
    "    y_test_r3[s] = test_df_r3[s].iloc[:,-1]\n",
    "    y_test_r3[s] = y_test_r3[s].astype(int)\n",
    "\n",
    "print(\"Subject1:\")\n",
    "print(\"train cleaned:\",X_train_r1[0].shape,\"test\",X_test_r1[0].shape)"
   ]
  },
  {
   "cell_type": "markdown",
   "metadata": {},
   "source": [
    "## Concat"
   ]
  },
  {
   "cell_type": "code",
   "execution_count": 77,
   "metadata": {},
   "outputs": [],
   "source": [
    "# concatinating the rounds for train and test\n",
    "X_train = [0]*N_Subj\n",
    "y_train = [0]*N_Subj\n",
    "\n",
    "X_test = [0]*N_Subj\n",
    "y_test = [0]*N_Subj\n",
    "\n",
    "for s in range(0,N_Subj):\n",
    "    X_train[s] = pd.concat([X_train_r1[s], X_train_r2[s], X_train_r3[s]], ignore_index=True)\n",
    "    y_train[s] = pd.concat([y_train_r1[s], y_train_r2[s], y_train_r3[s]], ignore_index=True)\n",
    "    \n",
    "    X_test[s] = pd.concat([X_test_r1[s], X_test_r2[s], X_test_r3[s]], ignore_index=True)\n",
    "    y_test[s] = pd.concat([y_test_r1[s], y_test_r2[s], y_test_r3[s]], ignore_index=True)"
   ]
  },
  {
   "cell_type": "markdown",
   "metadata": {},
   "source": [
    "## Scale"
   ]
  },
  {
   "cell_type": "code",
   "execution_count": 78,
   "metadata": {},
   "outputs": [],
   "source": [
    "#scaler fitted on train is used on both train and test\n",
    "\n",
    "for s in range(0,N_Subj):\n",
    "    scaler=StandardScaler(copy=False).fit(X_train[s])\n",
    "    scaler.transform(X_train[s])\n",
    "    scaler.transform(X_test[s])\n",
    "    \n",
    "    # save the scaler for feature use on new unseen data if you don't want to fit the scaler from beginning again\n",
    "#     pickle.dump(scaler, open(f_name+'_s'+str(s+1)+'_scaler.pkl', 'wb'))\n",
    "\n",
    "    "
   ]
  },
  {
   "cell_type": "markdown",
   "metadata": {},
   "source": [
    "## shuffle X & Y"
   ]
  },
  {
   "cell_type": "code",
   "execution_count": 79,
   "metadata": {},
   "outputs": [
    {
     "name": "stdout",
     "output_type": "stream",
     "text": [
      "full test label shape : (3297,)\n",
      "full test label shape : (3229,)\n",
      "full test label shape : (3280,)\n",
      "full test label shape : (3073,)\n",
      "full test label shape : (3324,)\n",
      "full test label shape : (3308,)\n",
      "full test label shape : (3273,)\n",
      "full test label shape : (3041,)\n",
      "full test label shape : (3174,)\n",
      "full test label shape : (3294,)\n",
      "full test label shape : (3254,)\n"
     ]
    }
   ],
   "source": [
    "# for some algorithms (e.g. perceptron) shuffling the samples is very important\n",
    "\n",
    "from sklearn.utils import shuffle\n",
    "for i in range(N_Subj):\n",
    "    X_train[i] , y_train[i] = shuffle(X_train[i],y_train[i])\n",
    "    X_test[i] , y_test[i] = shuffle(X_test[i],y_test[i])\n",
    "    print(\"full test label shape : \" + str(y_test[i].shape))"
   ]
  },
  {
   "cell_type": "markdown",
   "metadata": {},
   "source": [
    "## PCA\n",
    "#### not usefull for our purpose"
   ]
  },
  {
   "cell_type": "code",
   "execution_count": null,
   "metadata": {},
   "outputs": [],
   "source": [
    "# #PCA fit\n",
    "# from sklearn.decomposition import PCA\n",
    "# # based on explained cumulative variance\n",
    "# pca = PCA(n_components=0.95,svd_solver='full') \n",
    "# pca.fit(X_train)\n",
    "# pca.n_components_ \n",
    "# x_pca = pca.transform(X_train)\n",
    "# print(\"Dataset shape before PCA: \", X_train.shape)\n",
    "# print(\"Dataset shape after PCA: \", x_pca.shape)#19"
   ]
  },
  {
   "cell_type": "code",
   "execution_count": null,
   "metadata": {},
   "outputs": [],
   "source": [
    "# t_x_pca = pca.transform(X_test)\n",
    "# print(\"Dataset shape before PCA: \", X_test.shape)\n",
    "# print(\"Dataset shape after PCA: \", t_x_pca.shape)#19"
   ]
  },
  {
   "cell_type": "code",
   "execution_count": null,
   "metadata": {},
   "outputs": [],
   "source": [
    "# #VISUALIZE The cumulative percentage of explained variance\n",
    "# cum_explained_var=np.cumsum(pca.explained_variance_ratio_)\n",
    "# pd.DataFrame(cum_explained_var).transpose()"
   ]
  },
  {
   "cell_type": "code",
   "execution_count": null,
   "metadata": {},
   "outputs": [],
   "source": [
    "# ax = sns.barplot( data=explained_var)"
   ]
  },
  {
   "cell_type": "code",
   "execution_count": null,
   "metadata": {},
   "outputs": [],
   "source": [
    "# pca_Df = pd.DataFrame(data = x_pca\n",
    "#              , columns = ['pc1', 'pc2','pc3','pc4','pc5', 'pc6','pc7','pc8','pc9','pc10',\n",
    "#                          'pc11', 'pc12','pc13','pc14','pc15', 'pc16','pc17','pc18','pc19'])\n",
    "# pca_Df.head()"
   ]
  },
  {
   "cell_type": "code",
   "execution_count": null,
   "metadata": {},
   "outputs": [],
   "source": [
    "# pd.DataFrame(pca.components_,index=['pc1', 'pc2','pc3','pc4','pc5', 'pc6','pc7','pc8','pc9','pc10',\n",
    "#                          'pc11', 'pc12','pc13','pc14'],columns=X_train.columns)"
   ]
  },
  {
   "cell_type": "markdown",
   "metadata": {},
   "source": [
    "## KNN"
   ]
  },
  {
   "cell_type": "code",
   "execution_count": 14,
   "metadata": {},
   "outputs": [
    {
     "name": "stdout",
     "output_type": "stream",
     "text": [
      "subject: 1 accuracy:  96.26933575978161\n",
      "subject: 2 accuracy:  93.46546918550635\n",
      "subject: 3 accuracy:  84.60365853658537\n"
     ]
    },
    {
     "ename": "KeyboardInterrupt",
     "evalue": "",
     "output_type": "error",
     "traceback": [
      "\u001b[1;31m---------------------------------------------------------------------------\u001b[0m",
      "\u001b[1;31mKeyboardInterrupt\u001b[0m                         Traceback (most recent call last)",
      "\u001b[1;32m<ipython-input-14-cd84680ee934>\u001b[0m in \u001b[0;36m<module>\u001b[1;34m\u001b[0m\n\u001b[0;32m      3\u001b[0m     \u001b[0mknn\u001b[0m \u001b[1;33m=\u001b[0m \u001b[0mKNeighborsClassifier\u001b[0m\u001b[1;33m(\u001b[0m\u001b[0mn_neighbors\u001b[0m\u001b[1;33m=\u001b[0m\u001b[1;36m40\u001b[0m\u001b[1;33m)\u001b[0m\u001b[1;31m#,weights='distance') #for sbj3 with 9 nn 0.93 train accuracy\u001b[0m\u001b[1;33m\u001b[0m\u001b[1;33m\u001b[0m\u001b[0m\n\u001b[0;32m      4\u001b[0m     \u001b[0mknn\u001b[0m\u001b[1;33m.\u001b[0m\u001b[0mfit\u001b[0m\u001b[1;33m(\u001b[0m\u001b[0mX_train\u001b[0m\u001b[1;33m[\u001b[0m\u001b[0ms\u001b[0m\u001b[1;33m]\u001b[0m\u001b[1;33m,\u001b[0m\u001b[0my_train\u001b[0m\u001b[1;33m[\u001b[0m\u001b[0ms\u001b[0m\u001b[1;33m]\u001b[0m\u001b[1;33m)\u001b[0m\u001b[1;33m\u001b[0m\u001b[1;33m\u001b[0m\u001b[0m\n\u001b[1;32m----> 5\u001b[1;33m     \u001b[0my_pred\u001b[0m \u001b[1;33m=\u001b[0m \u001b[0mknn\u001b[0m\u001b[1;33m.\u001b[0m\u001b[0mpredict\u001b[0m\u001b[1;33m(\u001b[0m\u001b[0mX_test\u001b[0m\u001b[1;33m[\u001b[0m\u001b[0ms\u001b[0m\u001b[1;33m]\u001b[0m\u001b[1;33m)\u001b[0m\u001b[1;33m\u001b[0m\u001b[1;33m\u001b[0m\u001b[0m\n\u001b[0m\u001b[0;32m      6\u001b[0m \u001b[1;31m#     knn.fit(X_train_lda[s], y_train_lda[s]) #train and test with outlier\u001b[0m\u001b[1;33m\u001b[0m\u001b[1;33m\u001b[0m\u001b[1;33m\u001b[0m\u001b[0m\n\u001b[0;32m      7\u001b[0m \u001b[1;31m#     y_pred = knn.predict(X_test_lda[s])\u001b[0m\u001b[1;33m\u001b[0m\u001b[1;33m\u001b[0m\u001b[1;33m\u001b[0m\u001b[0m\n",
      "\u001b[1;32mC:\\ProgramData\\Anaconda3\\lib\\site-packages\\sklearn\\neighbors\\classification.py\u001b[0m in \u001b[0;36mpredict\u001b[1;34m(self, X)\u001b[0m\n\u001b[0;32m    147\u001b[0m         \u001b[0mX\u001b[0m \u001b[1;33m=\u001b[0m \u001b[0mcheck_array\u001b[0m\u001b[1;33m(\u001b[0m\u001b[0mX\u001b[0m\u001b[1;33m,\u001b[0m \u001b[0maccept_sparse\u001b[0m\u001b[1;33m=\u001b[0m\u001b[1;34m'csr'\u001b[0m\u001b[1;33m)\u001b[0m\u001b[1;33m\u001b[0m\u001b[1;33m\u001b[0m\u001b[0m\n\u001b[0;32m    148\u001b[0m \u001b[1;33m\u001b[0m\u001b[0m\n\u001b[1;32m--> 149\u001b[1;33m         \u001b[0mneigh_dist\u001b[0m\u001b[1;33m,\u001b[0m \u001b[0mneigh_ind\u001b[0m \u001b[1;33m=\u001b[0m \u001b[0mself\u001b[0m\u001b[1;33m.\u001b[0m\u001b[0mkneighbors\u001b[0m\u001b[1;33m(\u001b[0m\u001b[0mX\u001b[0m\u001b[1;33m)\u001b[0m\u001b[1;33m\u001b[0m\u001b[1;33m\u001b[0m\u001b[0m\n\u001b[0m\u001b[0;32m    150\u001b[0m         \u001b[0mclasses_\u001b[0m \u001b[1;33m=\u001b[0m \u001b[0mself\u001b[0m\u001b[1;33m.\u001b[0m\u001b[0mclasses_\u001b[0m\u001b[1;33m\u001b[0m\u001b[1;33m\u001b[0m\u001b[0m\n\u001b[0;32m    151\u001b[0m         \u001b[0m_y\u001b[0m \u001b[1;33m=\u001b[0m \u001b[0mself\u001b[0m\u001b[1;33m.\u001b[0m\u001b[0m_y\u001b[0m\u001b[1;33m\u001b[0m\u001b[1;33m\u001b[0m\u001b[0m\n",
      "\u001b[1;32mC:\\ProgramData\\Anaconda3\\lib\\site-packages\\sklearn\\neighbors\\base.py\u001b[0m in \u001b[0;36mkneighbors\u001b[1;34m(self, X, n_neighbors, return_distance)\u001b[0m\n\u001b[0;32m    452\u001b[0m                 delayed_query(\n\u001b[0;32m    453\u001b[0m                     self._tree, X[s], n_neighbors, return_distance)\n\u001b[1;32m--> 454\u001b[1;33m                 \u001b[1;32mfor\u001b[0m \u001b[0ms\u001b[0m \u001b[1;32min\u001b[0m \u001b[0mgen_even_slices\u001b[0m\u001b[1;33m(\u001b[0m\u001b[0mX\u001b[0m\u001b[1;33m.\u001b[0m\u001b[0mshape\u001b[0m\u001b[1;33m[\u001b[0m\u001b[1;36m0\u001b[0m\u001b[1;33m]\u001b[0m\u001b[1;33m,\u001b[0m \u001b[0mn_jobs\u001b[0m\u001b[1;33m)\u001b[0m\u001b[1;33m\u001b[0m\u001b[1;33m\u001b[0m\u001b[0m\n\u001b[0m\u001b[0;32m    455\u001b[0m             )\n\u001b[0;32m    456\u001b[0m         \u001b[1;32melse\u001b[0m\u001b[1;33m:\u001b[0m\u001b[1;33m\u001b[0m\u001b[1;33m\u001b[0m\u001b[0m\n",
      "\u001b[1;32mC:\\ProgramData\\Anaconda3\\lib\\site-packages\\joblib\\parallel.py\u001b[0m in \u001b[0;36m__call__\u001b[1;34m(self, iterable)\u001b[0m\n\u001b[0;32m    919\u001b[0m             \u001b[1;31m# remaining jobs.\u001b[0m\u001b[1;33m\u001b[0m\u001b[1;33m\u001b[0m\u001b[1;33m\u001b[0m\u001b[0m\n\u001b[0;32m    920\u001b[0m             \u001b[0mself\u001b[0m\u001b[1;33m.\u001b[0m\u001b[0m_iterating\u001b[0m \u001b[1;33m=\u001b[0m \u001b[1;32mFalse\u001b[0m\u001b[1;33m\u001b[0m\u001b[1;33m\u001b[0m\u001b[0m\n\u001b[1;32m--> 921\u001b[1;33m             \u001b[1;32mif\u001b[0m \u001b[0mself\u001b[0m\u001b[1;33m.\u001b[0m\u001b[0mdispatch_one_batch\u001b[0m\u001b[1;33m(\u001b[0m\u001b[0miterator\u001b[0m\u001b[1;33m)\u001b[0m\u001b[1;33m:\u001b[0m\u001b[1;33m\u001b[0m\u001b[1;33m\u001b[0m\u001b[0m\n\u001b[0m\u001b[0;32m    922\u001b[0m                 \u001b[0mself\u001b[0m\u001b[1;33m.\u001b[0m\u001b[0m_iterating\u001b[0m \u001b[1;33m=\u001b[0m \u001b[0mself\u001b[0m\u001b[1;33m.\u001b[0m\u001b[0m_original_iterator\u001b[0m \u001b[1;32mis\u001b[0m \u001b[1;32mnot\u001b[0m \u001b[1;32mNone\u001b[0m\u001b[1;33m\u001b[0m\u001b[1;33m\u001b[0m\u001b[0m\n\u001b[0;32m    923\u001b[0m \u001b[1;33m\u001b[0m\u001b[0m\n",
      "\u001b[1;32mC:\\ProgramData\\Anaconda3\\lib\\site-packages\\joblib\\parallel.py\u001b[0m in \u001b[0;36mdispatch_one_batch\u001b[1;34m(self, iterator)\u001b[0m\n\u001b[0;32m    757\u001b[0m                 \u001b[1;32mreturn\u001b[0m \u001b[1;32mFalse\u001b[0m\u001b[1;33m\u001b[0m\u001b[1;33m\u001b[0m\u001b[0m\n\u001b[0;32m    758\u001b[0m             \u001b[1;32melse\u001b[0m\u001b[1;33m:\u001b[0m\u001b[1;33m\u001b[0m\u001b[1;33m\u001b[0m\u001b[0m\n\u001b[1;32m--> 759\u001b[1;33m                 \u001b[0mself\u001b[0m\u001b[1;33m.\u001b[0m\u001b[0m_dispatch\u001b[0m\u001b[1;33m(\u001b[0m\u001b[0mtasks\u001b[0m\u001b[1;33m)\u001b[0m\u001b[1;33m\u001b[0m\u001b[1;33m\u001b[0m\u001b[0m\n\u001b[0m\u001b[0;32m    760\u001b[0m                 \u001b[1;32mreturn\u001b[0m \u001b[1;32mTrue\u001b[0m\u001b[1;33m\u001b[0m\u001b[1;33m\u001b[0m\u001b[0m\n\u001b[0;32m    761\u001b[0m \u001b[1;33m\u001b[0m\u001b[0m\n",
      "\u001b[1;32mC:\\ProgramData\\Anaconda3\\lib\\site-packages\\joblib\\parallel.py\u001b[0m in \u001b[0;36m_dispatch\u001b[1;34m(self, batch)\u001b[0m\n\u001b[0;32m    714\u001b[0m         \u001b[1;32mwith\u001b[0m \u001b[0mself\u001b[0m\u001b[1;33m.\u001b[0m\u001b[0m_lock\u001b[0m\u001b[1;33m:\u001b[0m\u001b[1;33m\u001b[0m\u001b[1;33m\u001b[0m\u001b[0m\n\u001b[0;32m    715\u001b[0m             \u001b[0mjob_idx\u001b[0m \u001b[1;33m=\u001b[0m \u001b[0mlen\u001b[0m\u001b[1;33m(\u001b[0m\u001b[0mself\u001b[0m\u001b[1;33m.\u001b[0m\u001b[0m_jobs\u001b[0m\u001b[1;33m)\u001b[0m\u001b[1;33m\u001b[0m\u001b[1;33m\u001b[0m\u001b[0m\n\u001b[1;32m--> 716\u001b[1;33m             \u001b[0mjob\u001b[0m \u001b[1;33m=\u001b[0m \u001b[0mself\u001b[0m\u001b[1;33m.\u001b[0m\u001b[0m_backend\u001b[0m\u001b[1;33m.\u001b[0m\u001b[0mapply_async\u001b[0m\u001b[1;33m(\u001b[0m\u001b[0mbatch\u001b[0m\u001b[1;33m,\u001b[0m \u001b[0mcallback\u001b[0m\u001b[1;33m=\u001b[0m\u001b[0mcb\u001b[0m\u001b[1;33m)\u001b[0m\u001b[1;33m\u001b[0m\u001b[1;33m\u001b[0m\u001b[0m\n\u001b[0m\u001b[0;32m    717\u001b[0m             \u001b[1;31m# A job can complete so quickly than its callback is\u001b[0m\u001b[1;33m\u001b[0m\u001b[1;33m\u001b[0m\u001b[1;33m\u001b[0m\u001b[0m\n\u001b[0;32m    718\u001b[0m             \u001b[1;31m# called before we get here, causing self._jobs to\u001b[0m\u001b[1;33m\u001b[0m\u001b[1;33m\u001b[0m\u001b[1;33m\u001b[0m\u001b[0m\n",
      "\u001b[1;32mC:\\ProgramData\\Anaconda3\\lib\\site-packages\\joblib\\_parallel_backends.py\u001b[0m in \u001b[0;36mapply_async\u001b[1;34m(self, func, callback)\u001b[0m\n\u001b[0;32m    180\u001b[0m     \u001b[1;32mdef\u001b[0m \u001b[0mapply_async\u001b[0m\u001b[1;33m(\u001b[0m\u001b[0mself\u001b[0m\u001b[1;33m,\u001b[0m \u001b[0mfunc\u001b[0m\u001b[1;33m,\u001b[0m \u001b[0mcallback\u001b[0m\u001b[1;33m=\u001b[0m\u001b[1;32mNone\u001b[0m\u001b[1;33m)\u001b[0m\u001b[1;33m:\u001b[0m\u001b[1;33m\u001b[0m\u001b[1;33m\u001b[0m\u001b[0m\n\u001b[0;32m    181\u001b[0m         \u001b[1;34m\"\"\"Schedule a func to be run\"\"\"\u001b[0m\u001b[1;33m\u001b[0m\u001b[1;33m\u001b[0m\u001b[0m\n\u001b[1;32m--> 182\u001b[1;33m         \u001b[0mresult\u001b[0m \u001b[1;33m=\u001b[0m \u001b[0mImmediateResult\u001b[0m\u001b[1;33m(\u001b[0m\u001b[0mfunc\u001b[0m\u001b[1;33m)\u001b[0m\u001b[1;33m\u001b[0m\u001b[1;33m\u001b[0m\u001b[0m\n\u001b[0m\u001b[0;32m    183\u001b[0m         \u001b[1;32mif\u001b[0m \u001b[0mcallback\u001b[0m\u001b[1;33m:\u001b[0m\u001b[1;33m\u001b[0m\u001b[1;33m\u001b[0m\u001b[0m\n\u001b[0;32m    184\u001b[0m             \u001b[0mcallback\u001b[0m\u001b[1;33m(\u001b[0m\u001b[0mresult\u001b[0m\u001b[1;33m)\u001b[0m\u001b[1;33m\u001b[0m\u001b[1;33m\u001b[0m\u001b[0m\n",
      "\u001b[1;32mC:\\ProgramData\\Anaconda3\\lib\\site-packages\\joblib\\_parallel_backends.py\u001b[0m in \u001b[0;36m__init__\u001b[1;34m(self, batch)\u001b[0m\n\u001b[0;32m    547\u001b[0m         \u001b[1;31m# Don't delay the application, to avoid keeping the input\u001b[0m\u001b[1;33m\u001b[0m\u001b[1;33m\u001b[0m\u001b[1;33m\u001b[0m\u001b[0m\n\u001b[0;32m    548\u001b[0m         \u001b[1;31m# arguments in memory\u001b[0m\u001b[1;33m\u001b[0m\u001b[1;33m\u001b[0m\u001b[1;33m\u001b[0m\u001b[0m\n\u001b[1;32m--> 549\u001b[1;33m         \u001b[0mself\u001b[0m\u001b[1;33m.\u001b[0m\u001b[0mresults\u001b[0m \u001b[1;33m=\u001b[0m \u001b[0mbatch\u001b[0m\u001b[1;33m(\u001b[0m\u001b[1;33m)\u001b[0m\u001b[1;33m\u001b[0m\u001b[1;33m\u001b[0m\u001b[0m\n\u001b[0m\u001b[0;32m    550\u001b[0m \u001b[1;33m\u001b[0m\u001b[0m\n\u001b[0;32m    551\u001b[0m     \u001b[1;32mdef\u001b[0m \u001b[0mget\u001b[0m\u001b[1;33m(\u001b[0m\u001b[0mself\u001b[0m\u001b[1;33m)\u001b[0m\u001b[1;33m:\u001b[0m\u001b[1;33m\u001b[0m\u001b[1;33m\u001b[0m\u001b[0m\n",
      "\u001b[1;32mC:\\ProgramData\\Anaconda3\\lib\\site-packages\\joblib\\parallel.py\u001b[0m in \u001b[0;36m__call__\u001b[1;34m(self)\u001b[0m\n\u001b[0;32m    223\u001b[0m         \u001b[1;32mwith\u001b[0m \u001b[0mparallel_backend\u001b[0m\u001b[1;33m(\u001b[0m\u001b[0mself\u001b[0m\u001b[1;33m.\u001b[0m\u001b[0m_backend\u001b[0m\u001b[1;33m,\u001b[0m \u001b[0mn_jobs\u001b[0m\u001b[1;33m=\u001b[0m\u001b[0mself\u001b[0m\u001b[1;33m.\u001b[0m\u001b[0m_n_jobs\u001b[0m\u001b[1;33m)\u001b[0m\u001b[1;33m:\u001b[0m\u001b[1;33m\u001b[0m\u001b[1;33m\u001b[0m\u001b[0m\n\u001b[0;32m    224\u001b[0m             return [func(*args, **kwargs)\n\u001b[1;32m--> 225\u001b[1;33m                     for func, args, kwargs in self.items]\n\u001b[0m\u001b[0;32m    226\u001b[0m \u001b[1;33m\u001b[0m\u001b[0m\n\u001b[0;32m    227\u001b[0m     \u001b[1;32mdef\u001b[0m \u001b[0m__len__\u001b[0m\u001b[1;33m(\u001b[0m\u001b[0mself\u001b[0m\u001b[1;33m)\u001b[0m\u001b[1;33m:\u001b[0m\u001b[1;33m\u001b[0m\u001b[1;33m\u001b[0m\u001b[0m\n",
      "\u001b[1;32mC:\\ProgramData\\Anaconda3\\lib\\site-packages\\joblib\\parallel.py\u001b[0m in \u001b[0;36m<listcomp>\u001b[1;34m(.0)\u001b[0m\n\u001b[0;32m    223\u001b[0m         \u001b[1;32mwith\u001b[0m \u001b[0mparallel_backend\u001b[0m\u001b[1;33m(\u001b[0m\u001b[0mself\u001b[0m\u001b[1;33m.\u001b[0m\u001b[0m_backend\u001b[0m\u001b[1;33m,\u001b[0m \u001b[0mn_jobs\u001b[0m\u001b[1;33m=\u001b[0m\u001b[0mself\u001b[0m\u001b[1;33m.\u001b[0m\u001b[0m_n_jobs\u001b[0m\u001b[1;33m)\u001b[0m\u001b[1;33m:\u001b[0m\u001b[1;33m\u001b[0m\u001b[1;33m\u001b[0m\u001b[0m\n\u001b[0;32m    224\u001b[0m             return [func(*args, **kwargs)\n\u001b[1;32m--> 225\u001b[1;33m                     for func, args, kwargs in self.items]\n\u001b[0m\u001b[0;32m    226\u001b[0m \u001b[1;33m\u001b[0m\u001b[0m\n\u001b[0;32m    227\u001b[0m     \u001b[1;32mdef\u001b[0m \u001b[0m__len__\u001b[0m\u001b[1;33m(\u001b[0m\u001b[0mself\u001b[0m\u001b[1;33m)\u001b[0m\u001b[1;33m:\u001b[0m\u001b[1;33m\u001b[0m\u001b[1;33m\u001b[0m\u001b[0m\n",
      "\u001b[1;32mC:\\ProgramData\\Anaconda3\\lib\\site-packages\\sklearn\\neighbors\\base.py\u001b[0m in \u001b[0;36m_tree_query_parallel_helper\u001b[1;34m(tree, data, n_neighbors, return_distance)\u001b[0m\n\u001b[0;32m    289\u001b[0m     \u001b[0munder\u001b[0m \u001b[0mPyPy\u001b[0m\u001b[1;33m.\u001b[0m\u001b[1;33m\u001b[0m\u001b[1;33m\u001b[0m\u001b[0m\n\u001b[0;32m    290\u001b[0m     \"\"\"\n\u001b[1;32m--> 291\u001b[1;33m     \u001b[1;32mreturn\u001b[0m \u001b[0mtree\u001b[0m\u001b[1;33m.\u001b[0m\u001b[0mquery\u001b[0m\u001b[1;33m(\u001b[0m\u001b[0mdata\u001b[0m\u001b[1;33m,\u001b[0m \u001b[0mn_neighbors\u001b[0m\u001b[1;33m,\u001b[0m \u001b[0mreturn_distance\u001b[0m\u001b[1;33m)\u001b[0m\u001b[1;33m\u001b[0m\u001b[1;33m\u001b[0m\u001b[0m\n\u001b[0m\u001b[0;32m    292\u001b[0m \u001b[1;33m\u001b[0m\u001b[0m\n\u001b[0;32m    293\u001b[0m \u001b[1;33m\u001b[0m\u001b[0m\n",
      "\u001b[1;31mKeyboardInterrupt\u001b[0m: "
     ]
    }
   ],
   "source": [
    "knn_acc = [0]*N_Subj\n",
    "for s in range(0,N_Subj):\n",
    "    knn = KNeighborsClassifier(n_neighbors=40)#,weights='distance')\n",
    "    knn.fit(X_train[s],y_train[s])\n",
    "    y_pred = knn.predict(X_test[s])\n",
    "    \n",
    "    knn_acc[s]=metrics.accuracy_score(y_test[s], y_pred)\n",
    "    print('subject:',s+1,\"accuracy: \", knn_acc[s]*100)\n",
    "sns.heatmap(confusion_matrix(y_test[10], y_pred), annot=True, fmt='d', cmap=\"Blues\"); \n",
    "plt.ylabel('True Label')\n",
    "plt.xlabel('Predicted Label')\n",
    "print(np.mean(knn_acc))"
   ]
  },
  {
   "cell_type": "code",
   "execution_count": null,
   "metadata": {},
   "outputs": [],
   "source": [
    "## grid search for KNN\n",
    "# Knn_acc = [0]*N_Subj\n",
    "# for s in range(0,N_Subj):\n",
    "#     classifier = KNeighborsClassifier()\n",
    "#     parameters = {'n_neighbors':np.arange(50,52)}\n",
    "#     gs = GridSearchCV(classifier, parameters, cv=3, scoring = 'accuracy', verbose=10, n_jobs=-1)\n",
    "#     gs = gs.fit(X_train[s], y_train[s])\n",
    "\n",
    "#     #summarize the results of your GRIDSEARCH\n",
    "#     print(\"Best score: %f using %s\" % (gs.best_score_, gs.best_params_))\n",
    "# #     means = gs.cv_results_['mean_test_score']\n",
    "# #     stds = gs.cv_results_['std_test_score']\n",
    "# #     params = gs.cv_results_['params']\n",
    "# #     for mean, stdev, param in zip(means, stds, params):\n",
    "# #         print(\"Mean %f Std (%f) with: %r\" % (mean, stdev, param))\n",
    "#     best_model = gs.best_estimator_\n",
    "#     y_pred = best_model.predict(X_test[s])\n",
    "#     Knn_acc[s]=metrics.accuracy_score(y_test[s], y_pred)\n",
    "#     print(\"subject:\",s+1,\"accuracy: \", Knn_acc[s])\n",
    "# # sns.heatmap(confusion_matrix(y_test, y_pred), annot=True, fmt='d', cmap=\"Blues\"); \n",
    "# # plt.ylabel('True Label')\n",
    "# # plt.xlabel('Predicted Label')\n",
    "# print(Knn_acc)"
   ]
  },
  {
   "cell_type": "markdown",
   "metadata": {},
   "source": [
    "## SVM"
   ]
  },
  {
   "cell_type": "code",
   "execution_count": null,
   "metadata": {},
   "outputs": [],
   "source": [
    "SVM_acc = [0]*N_Subj\n",
    "for s in range(0,N_Subj):\n",
    "    model = SVC(kernel='linear',C=1, class_weight=\"balanced\",gamma = 'auto')\n",
    "    model.fit(X_train[s], y_train[s])\n",
    "    y_pred = model.predict(X_test[s])\n",
    "    \n",
    "    # save the model to disk\n",
    "#     filename = 'SVM_'+f_name+'_s'+str(s+1)+'.sav'\n",
    "#     pickle.dump(model, open(filename, 'wb'))\n",
    "    \n",
    "    SVM_acc[s] = metrics.accuracy_score(y_test[s], y_pred)\n",
    "    print(\"subject\",s+1,'accuracy:',SVM_acc[s]*100)\n",
    "sns.heatmap(confusion_matrix(y_test[10], y_pred), annot=True, fmt='d', cmap=\"Blues\", cbar=False);\n",
    "plt.ylabel('True Label')\n",
    "plt.xlabel('Predicted Label')\n",
    "print(np.mean(SVM_acc))"
   ]
  },
  {
   "cell_type": "code",
   "execution_count": null,
   "metadata": {},
   "outputs": [],
   "source": [
    "# # grid search for SVM\n",
    "# SVC_acc=[0]*N_Subj\n",
    "# classifier = SVC()\n",
    "# parameters = {\"kernel\":['linear'], \"C\":[1,10,100,1000],\"gamma\":[1e-4]} \n",
    "# for s in range(0,N_Subj):\n",
    "#     gs = GridSearchCV(classifier, parameters, cv=3, scoring = 'accuracy', verbose=50, n_jobs=-1, refit=True)\n",
    "#     gs = gs.fit(X_train[s], y_train[s])\n",
    "#     #summarize the results of your GRIDSEARCH\n",
    "#     print('***GRIDSEARCH RESULTS***')\n",
    "#     print(\"Best score: %f using %s\" % (gs.best_score_, gs.best_params_))\n",
    "#     best_model = gs.best_estimator_\n",
    "#     y_pred = best_model.predict(X_test[s])\n",
    "#     SVC_acc[s] = metrics.accuracy_score(y_test[s], y_pred)\n",
    "#     print(\"subject\",s+1,\"accuracy\",SVC_acc[s])\n",
    "# print(SVC_acc[s])"
   ]
  },
  {
   "cell_type": "code",
   "execution_count": null,
   "metadata": {},
   "outputs": [],
   "source": [
    "# print(classification_report(y_test[s], y_pred))"
   ]
  },
  {
   "cell_type": "markdown",
   "metadata": {},
   "source": [
    "## naive bayes"
   ]
  },
  {
   "cell_type": "code",
   "execution_count": null,
   "metadata": {},
   "outputs": [],
   "source": [
    "NB_acc=[0]*N_Subj\n",
    "for s in range(0,N_Subj): \n",
    "    model = GaussianNB(var_smoothing=0.1)\n",
    "\n",
    "    model.fit(X_train[s], y_train[s])\n",
    "    y_pred=model.predict(X_test[s])\n",
    "    NB_acc[s] = metrics.accuracy_score(y_test[s], y_pred)\n",
    "    print(\"subject:\",s+1,\"accuracy: \", NB_acc[s]*100)\n",
    "sns.heatmap(confusion_matrix(y_test[10], y_pred), annot=True, fmt='d', cmap=\"Blues\", cbar=False);\n",
    "plt.ylabel('True Label')\n",
    "plt.xlabel('Predicted Label')"
   ]
  },
  {
   "cell_type": "code",
   "execution_count": null,
   "metadata": {},
   "outputs": [],
   "source": [
    "# # grid search for NB\n",
    "# NB = GaussianNB()\n",
    "# l1=[0.125, 0.125,0.125,0.125,0.125, 0.125,0.125,0.125]\n",
    "# parameters = {'priors':[l1,None]}\n",
    "\n",
    "# NB_acc=[0]*N_Subj\n",
    "# for s in range(0,N_Subj): \n",
    "#     gs = GridSearchCV(NB, parameters, cv=3, scoring = 'accuracy', verbose=50, n_jobs=-1, refit=True)\n",
    "#     gs = gs.fit(X_train[s], y_train[s])\n",
    "\n",
    "#     print('***GRIDSEARCH RESULTS***')\n",
    "#     print(\"Best score: %f using %s\" % (gs.best_score_, gs.best_params_))\n",
    "#     best_model = gs.best_estimator_\n",
    "#     y_pred = best_model.predict(X_test[s])\n",
    "#     NB_acc[s] = metrics.accuracy_score(y_test[s], y_pred)\n",
    "#     print(\"subject\",s+1,\"accuracy: \", NB_acc[s])\n",
    "# print(NB_acc)"
   ]
  },
  {
   "cell_type": "markdown",
   "metadata": {},
   "source": [
    "## LDA"
   ]
  },
  {
   "cell_type": "code",
   "execution_count": null,
   "metadata": {},
   "outputs": [],
   "source": [
    "LDA_acc=[0]*N_Subj\n",
    "\n",
    "LDA = LinearDiscriminantAnalysis(solver='svd')\n",
    "for s in range(0,N_Subj):\n",
    "    LDA.fit(X_train[s], y_train[s])\n",
    "    \n",
    "#     # save the model to disk\n",
    "#     filename = 'LDA_'+f_name+'_s'+str(s+1)+'.sav'\n",
    "#     pickle.dump(LDA, open(filename, 'wb'))\n",
    "    \n",
    "    y_pred = LDA.predict(X_test[s])\n",
    "    LDA_acc[s] = metrics.accuracy_score(y_test[s], y_pred)\n",
    "\n",
    "    print(\"subject\",s+1,\"accuracy: \", LDA_acc[s]*100)\n",
    "sns.heatmap(confusion_matrix(y_test[10], y_pred), annot=True, fmt='d', cmap=\"Reds\");\n",
    "plt.ylabel('True Label')\n",
    "plt.xlabel('Predicted Label')\n",
    "print(np.mean(LDA_acc))"
   ]
  },
  {
   "cell_type": "code",
   "execution_count": null,
   "metadata": {},
   "outputs": [],
   "source": [
    "# # grid search for LDA\n",
    "# LDA = LinearDiscriminantAnalysis()\n",
    "# parameters = {'solver':['svd','lsqr']}\n",
    "# LDA_acc=[0]*N_Subj\n",
    "\n",
    "# for s in range(0,N_Subj):\n",
    "#     gs = GridSearchCV(LDA, parameters, cv=3, scoring = 'accuracy', verbose=50, n_jobs=-1, refit=True)\n",
    "#     gs = gs.fit(X_train[s], y_train[s])\n",
    "\n",
    "#     print('***GRIDSEARCH RESULTS***')\n",
    "#     print(\"Best score: %f using %s\" % (gs.best_score_, gs.best_params_))\n",
    "\n",
    "#     best_model = gs.best_estimator_\n",
    "#     y_pred = best_model.predict(X_test[s])\n",
    "#     LDA_acc[s] = metrics.accuracy_score(y_test[s], y_pred)\n",
    "#     print(\"subject\",s+1,\"accuracy: \", LDA_acc[s])\n",
    "# print(LDA_acc)"
   ]
  },
  {
   "cell_type": "code",
   "execution_count": null,
   "metadata": {},
   "outputs": [],
   "source": []
  },
  {
   "cell_type": "markdown",
   "metadata": {},
   "source": [
    "## MLP"
   ]
  },
  {
   "cell_type": "code",
   "execution_count": 82,
   "metadata": {
    "scrolled": true
   },
   "outputs": [
    {
     "name": "stdout",
     "output_type": "stream",
     "text": [
      "************subject: 1 average accuracy:*********** 95.32302092811646\n",
      "************subject: 2 average accuracy:*********** 93.52895633323008\n",
      "************subject: 3 average accuracy:*********** 87.96951219512195\n",
      "************subject: 4 average accuracy:*********** 89.54604620891638\n",
      "************subject: 5 average accuracy:*********** 90.17599277978337\n",
      "************subject: 6 average accuracy:*********** 91.24395405078596\n",
      "************subject: 7 average accuracy:*********** 85.92117323556371\n",
      "************subject: 8 average accuracy:*********** 93.83755343636962\n",
      "************subject: 9 average accuracy:*********** 91.99590422180212\n",
      "************subject: 10 average accuracy:*********** 95.3217972070431\n",
      "************subject: 11 average accuracy:*********** 91.100184388445\n",
      "[[0.9523809523809523, 0.9526842584167425, 0.9520776463451622, 0.9526842584167425, 0.9523809523809523, 0.9599636032757052, 0.9511677282377919, 0.951471034273582, 0.9526842584167425, 0.9557173187746436, 0.951471034273582, 0.951471034273582, 0.9511677282377919, 0.9502578101304215, 0.9551107067030634, 0.9572338489535942, 0.9578404610251744, 0.9496511980588414, 0.954200788595693, 0.9529875644525326], [0.9352740786621245, 0.9386807061009601, 0.938061319293899, 0.935583772065655, 0.931248064416228, 0.933106224837411, 0.9321771446268194, 0.9315577578197585, 0.9287705171879839, 0.9377516258903685, 0.9383710126974295, 0.933725611644472, 0.9411582533292041, 0.9389903995044906, 0.931248064416228, 0.9365128522762465, 0.9352740786621245, 0.9365128522762465, 0.940538866522143, 0.931248064416228], [0.8795731707317073, 0.8804878048780488, 0.8792682926829268, 0.8801829268292682, 0.8798780487804878, 0.8783536585365853, 0.875, 0.8807926829268292, 0.8801829268292682, 0.8804878048780488, 0.8798780487804878, 0.8774390243902439, 0.8817073170731707, 0.8798780487804878, 0.8786585365853659, 0.8795731707317073, 0.8798780487804878, 0.8820121951219512, 0.8789634146341463, 0.8817073170731707], [0.8948909860071591, 0.8987959648551904, 0.8952164009111617, 0.8948909860071591, 0.8987959648551904, 0.8955418158151643, 0.9049788480312398, 0.8922876667751383, 0.8935893263911487, 0.8913114220631305, 0.8984705499511878, 0.8984705499511878, 0.8942401561991539, 0.8952164009111617, 0.8935893263911487, 0.8952164009111617, 0.8932639114871461, 0.8978197201431826, 0.8909860071591279, 0.8916368369671331], [0.8992178098676293, 0.9019253910950662, 0.9007220216606499, 0.8998194945848376, 0.8965102286401926, 0.9046329723225031, 0.9043321299638989, 0.9016245487364621, 0.9022262334536703, 0.8992178098676293, 0.9007220216606499, 0.9061371841155235, 0.9055354993983152, 0.9001203369434416, 0.9034296028880866, 0.8992178098676293, 0.8998194945848376, 0.9004211793020457, 0.9070397111913358, 0.9025270758122743], [0.9153567110036276, 0.9126360338573156, 0.910217654171705, 0.9126360338573156, 0.914752116082225, 0.9138452237001209, 0.909310761789601, 0.9144498186215235, 0.9111245465538089, 0.912031438935913, 0.9135429262394196, 0.9159613059250302, 0.9135429262394196, 0.9114268440145102, 0.9117291414752116, 0.9114268440145102, 0.9099153567110037, 0.910217654171705, 0.9126360338573156, 0.912031438935913], [0.8585395661472655, 0.8545676749159792, 0.8579285059578369, 0.8560953253895509, 0.8597616865261228, 0.8652612282309807, 0.8576229758631225, 0.8588450962419798, 0.8585395661472655, 0.8603727467155515, 0.8585395661472655, 0.8606782768102658, 0.8606782768102658, 0.8576229758631225, 0.8579285059578369, 0.8619003971891231, 0.8631225175679804, 0.8567063855789795, 0.8622059272838375, 0.8573174457684082], [0.9414666228214403, 0.9358763564616902, 0.9394935876356462, 0.9394935876356462, 0.9414666228214403, 0.9388359092403814, 0.942124301216705, 0.937520552449852, 0.9414666228214403, 0.9316014468924696, 0.937520552449852, 0.9414666228214403, 0.9362051956593226, 0.9394935876356462, 0.9381782308451168, 0.9345609996711608, 0.9355475172640578, 0.9368628740545873, 0.9385070700427491, 0.9398224268332785], [0.9212350346565847, 0.921865154379332, 0.9180844360428482, 0.9190296156269692, 0.9221802142407057, 0.9183994959042218, 0.922810333963453, 0.9174543163201008, 0.9161940768746062, 0.9240705734089477, 0.9224952741020794, 0.921865154379332, 0.9171392564587272, 0.9174543163201008, 0.9224952741020794, 0.9202898550724637, 0.9193446754883428, 0.920919974795211, 0.9174543163201008, 0.9183994959042218], [0.9511232544019429, 0.9559805707346691, 0.9529447480267152, 0.9562841530054644, 0.9523375834851244, 0.9450516089860352, 0.9581056466302368, 0.9532483302975107, 0.9517304189435337, 0.9529447480267152, 0.9480874316939891, 0.9523375834851244, 0.9544626593806922, 0.9623557984213722, 0.9471766848816029, 0.9526411657559198, 0.953551912568306, 0.9532483302975107, 0.9541590771098968, 0.9565877352762598], [0.9145666871542717, 0.9170251997541488, 0.9124154886293793, 0.9154886293792256, 0.9093423478795328, 0.91180086047941, 0.9044253226797787, 0.9053472649047326, 0.907498463429625, 0.9124154886293793, 0.9096496619545175, 0.9081130915795943, 0.9102642901044868, 0.9102642901044868, 0.9127228027043639, 0.9139520590043024, 0.9142593730792871, 0.91180086047941, 0.9096496619545175, 0.9090350338045482]]\n"
     ]
    }
   ],
   "source": [
    "MLP_acc = []\n",
    "\n",
    "av_for = 20 # MLP is stochastic so it should be averaged over some number of repetitions\n",
    "\n",
    "MLP=MLPClassifier(hidden_layer_sizes=(300), #warm_start=True,\n",
    "              activation='tanh', alpha=0.0001, n_iter_no_change=20, solver='sgd',tol=0.0001,\n",
    "              max_iter=1000, verbose=False) \n",
    "\n",
    "for s in range(0,N_Subj):\n",
    "    acc_list =[]\n",
    "    for i in range(av_for):\n",
    "        MLP.fit(X_train[s], y_train[s])\n",
    "        y_pred = MLP.predict(X_test[s])\n",
    "        \n",
    "        acc_list.append(metrics.accuracy_score(y_test[s], y_pred)) \n",
    "#     print(acc_list)\n",
    "    aver=np.mean(acc_list)\n",
    "    MLP_acc.append(acc_list)\n",
    "    print(\"************subject:\",s+1,\"average accuracy:***********\", aver*100)\n",
    "print(MLP_acc)\n",
    "# print(np.mean(MLP_acc))"
   ]
  },
  {
   "cell_type": "code",
   "execution_count": 92,
   "metadata": {},
   "outputs": [
    {
     "name": "stdout",
     "output_type": "stream",
     "text": [
      "95.11\n",
      "95.6\n",
      "95.29\n",
      "95.63\n",
      "95.23\n",
      "94.51\n",
      "95.81\n",
      "95.32\n",
      "95.17\n",
      "95.29\n",
      "94.81\n",
      "95.23\n",
      "95.45\n",
      "96.24\n",
      "94.72\n",
      "95.26\n",
      "95.36\n",
      "95.32\n",
      "95.42\n",
      "95.66\n"
     ]
    },
    {
     "data": {
      "text/plain": [
       "0.9532302092811646"
      ]
     },
     "execution_count": 92,
     "metadata": {},
     "output_type": "execute_result"
    }
   ],
   "source": [
    "for i in MLP_acc[9]:\n",
    "    print(round(i*100,2))\n",
    "np.mean(MLP_acc[0])"
   ]
  },
  {
   "cell_type": "code",
   "execution_count": null,
   "metadata": {},
   "outputs": [],
   "source": [
    "sns.heatmap(confusion_matrix(y_test[10], y_pred), annot=True, fmt='d', cmap=\"Reds\");\n",
    "plt.ylabel('True Label')\n",
    "plt.xlabel('Predicted Label')"
   ]
  },
  {
   "cell_type": "code",
   "execution_count": null,
   "metadata": {},
   "outputs": [],
   "source": [
    "# # grid search for SVM\n",
    "# classifier = MLPClassifier()\n",
    "# parameters = {\"hidden_layer_sizes\":[(50,20)],  \"max_iter\": [1000], \"alpha\": [0.001],\"activation\":['relu'],'solver':['adam']}\n",
    "# # activation : {‘identity’, ‘logistic’, ‘tanh’, ‘relu’}\n",
    "# acc_list=[0]*5\n",
    "# MLP_acc = [0]*N_Subj\n",
    "\n",
    "# for s in range(0,N_Subj):\n",
    "#     for i in range(5):\n",
    "#         gs = GridSearchCV(classifier, parameters, cv=3, scoring = 'accuracy', verbose=50, n_jobs=-1, refit=True)\n",
    "#         gs = gs.fit(X_train[s], y_train[s])\n",
    "\n",
    "#         print('***GRIDSEARCH RESULTS***')\n",
    "#         print(\"Best score: %f using %s\" % (gs.best_score_, gs.best_params_))\n",
    "#         means = gs.cv_results_['mean_test_score']\n",
    "#         stds = gs.cv_results_['std_test_score']\n",
    "#         params = gs.cv_results_['params']\n",
    "\n",
    "#         for mean, stdev, param in zip(means, stds, params):\n",
    "#             print(\"%f (%f) with: %r\" % (mean, stdev, param))\n",
    "\n",
    "#         best_model = gs.best_estimator_\n",
    "#         y_pred = best_model.predict(X_test[s])\n",
    "#         acc_list[i] = metrics.accuracy_score(y_test[s], y_pred)\n",
    "#         print(acc_list[i])\n",
    "#     aver=np.mean(acc_list)\n",
    "#     MLP_acc[s]=aver\n",
    "#     print('********************************************')\n",
    "#     print(\"subject:\",s+1)\n",
    "#     print(\"average accuracy:\", aver)\n",
    "\n",
    "# print(\"MLP accuracy: \", MLP_acc)\n"
   ]
  }
 ],
 "metadata": {
  "kernelspec": {
   "display_name": "Python 3",
   "language": "python",
   "name": "python3"
  },
  "language_info": {
   "codemirror_mode": {
    "name": "ipython",
    "version": 3
   },
   "file_extension": ".py",
   "mimetype": "text/x-python",
   "name": "python",
   "nbconvert_exporter": "python",
   "pygments_lexer": "ipython3",
   "version": "3.7.7"
  }
 },
 "nbformat": 4,
 "nbformat_minor": 2
}
