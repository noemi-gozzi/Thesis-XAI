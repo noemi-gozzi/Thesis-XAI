{
 "cells": [
  {
   "cell_type": "code",
   "execution_count": 1,
   "metadata": {},
   "outputs": [
    {
     "name": "stderr",
     "output_type": "stream",
     "text": [
      "Using TensorFlow backend.\n"
     ]
    }
   ],
   "source": [
    "import sys\n",
    "import os\n",
    "import numpy as np\n",
    "import cv2\n",
    "from matplotlib import pyplot as plt\n",
    "import tensorflow as tf\n",
    "from tensorflow import keras\n",
    "from keras.preprocessing import image\n",
    "from keras.applications.imagenet_utils import decode_predictions\n",
    "from skimage.io import imread\n",
    "from IPython.display import display\n",
    "from IPython.display import Image\n",
    "import matplotlib.pyplot as plt\n",
    "import matplotlib.cm as cm"
   ]
  },
  {
   "cell_type": "code",
   "execution_count": 2,
   "metadata": {},
   "outputs": [],
   "source": [
    "#import kapre\n",
    "import keras\n",
    "import keras.utils as ku\n",
    "\n",
    "from keras.layers import Conv2D, LocallyConnected2D, Conv2DTranspose, Flatten, Dense, LeakyReLU, PReLU, Input, add, Layer\n",
    "from keras.layers import BatchNormalization, UpSampling2D, Activation, Dropout, MaxPooling2D, AveragePooling2D\n",
    "from keras.callbacks import EarlyStopping, ModelCheckpoint, LearningRateScheduler, ReduceLROnPlateau, TensorBoard\n",
    "from keras.models import Sequential, load_model, Model\n",
    "from keras.utils import to_categorical, plot_model\n",
    "from keras.metrics import mean_squared_error\n",
    "from keras.optimizers import Adam, RMSprop, SGD\n",
    "from keras.initializers import RandomNormal\n",
    "import keras.backend as K"
   ]
  },
  {
   "cell_type": "code",
   "execution_count": 3,
   "metadata": {},
   "outputs": [],
   "source": [
    "class RReLU(Layer):\n",
    "    '''Randomized Leaky Rectified Linear Unit\n",
    "    that uses a random alpha in training while using the average of alphas\n",
    "    in testing phase:\n",
    "    During training\n",
    "    `f(x) = alpha * x for x < 0, where alpha ~ U(l, u), l < u`,\n",
    "    `f(x) = x for x >= 0`.\n",
    "    During testing:\n",
    "    `f(x) = (l + u) / 2 * x for x < 0`,\n",
    "    `f(x) = x for x >= 0`.\n",
    "    # Input shape\n",
    "        Arbitrary. Use the keyword argument `input_shape`\n",
    "        (tuple of integers, does not include the samples axis)\n",
    "        when using this layer as the first layer in a model.\n",
    "    # Output shape\n",
    "        Same shape as the input.\n",
    "    # Arguments\n",
    "        l: lower bound of the uniform distribution, default is 1/8\n",
    "        u: upper bound of the uniform distribution, default is 1/3\n",
    "    # References\n",
    "        - [Empirical Evaluation of Rectified Activations in Convolution Network](https://arxiv.org/pdf/1505.00853v2.pdf)\n",
    "    '''\n",
    "\n",
    "    def __init__(self, l=1/10., u=1/9., **kwargs):\n",
    "        self.supports_masking = True\n",
    "        self.l = l\n",
    "        self.u = u\n",
    "        self.average = (l + u) / 2\n",
    "        self.uses_learning_phase = True\n",
    "        super(RReLU, self).__init__(**kwargs)\n",
    "\n",
    "    def call(self, x, mask=None):\n",
    "        return K.in_train_phase(K.relu(x, np.random.uniform(self.l, self.u)),\n",
    "                                K.relu(x, self.average))\n",
    "    \n",
    "    def build(self, input_shape):\n",
    "        super(RReLU, self).build(input_shape)\n",
    "\n",
    "\n",
    "    def get_config(self):\n",
    "        config = {'l': self.l, 'u': self.u}\n",
    "        base_config = super(RReLU, self).get_config()\n",
    "        return dict(list(base_config.items()) + list(config.items()))\n",
    "\n",
    "    # def compute_output_shape(self, input_shape):\n",
    "    #     return input_shape"
   ]
  },
  {
   "cell_type": "code",
   "execution_count": 5,
   "metadata": {},
   "outputs": [
    {
     "name": "stdout",
     "output_type": "stream",
     "text": [
      "WARNING:tensorflow:From C:\\Users\\noemi\\anaconda3\\envs\\tesi-tf1\\lib\\site-packages\\tensorflow_core\\python\\ops\\resource_variable_ops.py:1630: calling BaseResourceVariable.__init__ (from tensorflow.python.ops.resource_variable_ops) with constraint is deprecated and will be removed in a future version.\n",
      "Instructions for updating:\n",
      "If using Keras pass *_constraint arguments to layers.\n",
      "WARNING:tensorflow:From C:\\Users\\noemi\\anaconda3\\envs\\tesi-tf1\\lib\\site-packages\\keras\\backend\\tensorflow_backend.py:4070: The name tf.nn.max_pool is deprecated. Please use tf.nn.max_pool2d instead.\n",
      "\n",
      "WARNING:tensorflow:From C:\\Users\\noemi\\anaconda3\\envs\\tesi-tf1\\lib\\site-packages\\keras\\backend\\tensorflow_backend.py:4074: The name tf.nn.avg_pool is deprecated. Please use tf.nn.avg_pool2d instead.\n",
      "\n",
      "WARNING:tensorflow:From C:\\Users\\noemi\\anaconda3\\envs\\tesi-tf1\\lib\\site-packages\\keras\\backend\\tensorflow_backend.py:422: The name tf.global_variables is deprecated. Please use tf.compat.v1.global_variables instead.\n",
      "\n",
      "Model: \"Resnet\"\n",
      "__________________________________________________________________________________________________\n",
      "Layer (type)                    Output Shape         Param #     Connected to                     \n",
      "==================================================================================================\n",
      "input_28 (InputLayer)           (None, 10, 512, 1)   0                                            \n",
      "__________________________________________________________________________________________________\n",
      "conv2d_136 (Conv2D)             (None, 10, 128, 32)  448         input_28[0][0]                   \n",
      "__________________________________________________________________________________________________\n",
      "batch_normalization_163 (BatchN (None, 10, 128, 32)  40          conv2d_136[0][0]                 \n",
      "__________________________________________________________________________________________________\n",
      "r_re_lu_163 (RReLU)             (None, 10, 128, 32)  0           batch_normalization_163[0][0]    \n",
      "__________________________________________________________________________________________________\n",
      "dropout_136 (Dropout)           (None, 10, 128, 32)  0           r_re_lu_163[0][0]                \n",
      "__________________________________________________________________________________________________\n",
      "conv2d_137 (Conv2D)             (None, 10, 128, 48)  13872       dropout_136[0][0]                \n",
      "__________________________________________________________________________________________________\n",
      "conv2d_139 (Conv2D)             (None, 10, 128, 48)  672         input_28[0][0]                   \n",
      "__________________________________________________________________________________________________\n",
      "batch_normalization_164 (BatchN (None, 10, 128, 48)  40          conv2d_137[0][0]                 \n",
      "__________________________________________________________________________________________________\n",
      "batch_normalization_165 (BatchN (None, 10, 128, 48)  40          conv2d_139[0][0]                 \n",
      "__________________________________________________________________________________________________\n",
      "r_re_lu_164 (RReLU)             (None, 10, 128, 48)  0           batch_normalization_164[0][0]    \n",
      "__________________________________________________________________________________________________\n",
      "r_re_lu_165 (RReLU)             (None, 10, 128, 48)  0           batch_normalization_165[0][0]    \n",
      "__________________________________________________________________________________________________\n",
      "max_pooling2d_28 (MaxPooling2D) (None, 10, 32, 48)   0           r_re_lu_164[0][0]                \n",
      "__________________________________________________________________________________________________\n",
      "average_pooling2d_55 (AveragePo (None, 10, 32, 48)   0           r_re_lu_165[0][0]                \n",
      "__________________________________________________________________________________________________\n",
      "dropout_137 (Dropout)           (None, 10, 32, 48)   0           max_pooling2d_28[0][0]           \n",
      "__________________________________________________________________________________________________\n",
      "dropout_138 (Dropout)           (None, 10, 32, 48)   0           average_pooling2d_55[0][0]       \n",
      "__________________________________________________________________________________________________\n",
      "conv2d_138 (Conv2D)             (None, 10, 32, 64)   15424       dropout_137[0][0]                \n",
      "__________________________________________________________________________________________________\n",
      "conv2d_140 (Conv2D)             (None, 10, 32, 64)   15424       dropout_138[0][0]                \n",
      "__________________________________________________________________________________________________\n",
      "add_28 (Add)                    (None, 10, 32, 64)   0           conv2d_138[0][0]                 \n",
      "                                                                 conv2d_140[0][0]                 \n",
      "__________________________________________________________________________________________________\n",
      "batch_normalization_166 (BatchN (None, 10, 32, 64)   40          add_28[0][0]                     \n",
      "__________________________________________________________________________________________________\n",
      "r_re_lu_166 (RReLU)             (None, 10, 32, 64)   0           batch_normalization_166[0][0]    \n",
      "__________________________________________________________________________________________________\n",
      "average_pooling2d_56 (AveragePo (None, 10, 8, 64)    0           r_re_lu_166[0][0]                \n",
      "__________________________________________________________________________________________________\n",
      "dropout_139 (Dropout)           (None, 10, 8, 64)    0           average_pooling2d_56[0][0]       \n",
      "__________________________________________________________________________________________________\n",
      "flatten_28 (Flatten)            (None, 5120)         0           dropout_139[0][0]                \n",
      "__________________________________________________________________________________________________\n",
      "dense_82 (Dense)                (None, 150)          768150      flatten_28[0][0]                 \n",
      "__________________________________________________________________________________________________\n",
      "batch_normalization_167 (BatchN (None, 150)          600         dense_82[0][0]                   \n",
      "__________________________________________________________________________________________________\n",
      "r_re_lu_167 (RReLU)             (None, 150)          0           batch_normalization_167[0][0]    \n",
      "__________________________________________________________________________________________________\n",
      "dropout_140 (Dropout)           (None, 150)          0           r_re_lu_167[0][0]                \n",
      "__________________________________________________________________________________________________\n",
      "dense_83 (Dense)                (None, 50)           7550        dropout_140[0][0]                \n",
      "__________________________________________________________________________________________________\n",
      "batch_normalization_168 (BatchN (None, 50)           200         dense_83[0][0]                   \n",
      "__________________________________________________________________________________________________\n",
      "r_re_lu_168 (RReLU)             (None, 50)           0           batch_normalization_168[0][0]    \n",
      "__________________________________________________________________________________________________\n",
      "dense_84 (Dense)                (None, 8)            408         r_re_lu_168[0][0]                \n",
      "==================================================================================================\n",
      "Total params: 822,908\n",
      "Trainable params: 822,428\n",
      "Non-trainable params: 480\n",
      "__________________________________________________________________________________________________\n"
     ]
    }
   ],
   "source": [
    "saved_modelt = load_model('C:\\\\Users\\\\noemi\\\\Desktop\\\\university\\\\university\\\\tesi\\\\Thesis-XAI\\\\resources\\\\best_models\\\\best_modelinc0.h5',custom_objects={'RReLU': RReLU})\n",
    "saved_modelt.summary()"
   ]
  },
  {
   "cell_type": "markdown",
   "metadata": {},
   "source": [
    "## IMPORT DATA"
   ]
  },
  {
   "cell_type": "code",
   "execution_count": 6,
   "metadata": {},
   "outputs": [
    {
     "name": "stdout",
     "output_type": "stream",
     "text": [
      "Data base Shape (11, 3)\n",
      "subject 1 database shape (2887, 10, 512)\n",
      "lable Shape (11, 3)\n",
      "subject 1 lable shape (2887,)\n",
      "move Shape (11, 3)\n",
      "subject 1 move shape (2887,)\n"
     ]
    }
   ],
   "source": [
    "dataset = np.load('../resources/data/final_dataset-004.npy', allow_pickle=True)\n",
    "label = np.load('../resources/data/final_label.npy', allow_pickle=True)\n",
    "move = np.load('../resources/data/final_move.npy', allow_pickle=True)\n",
    "\n",
    "print('Data base Shape', np.shape(dataset))\n",
    "print('subject 1 database shape', dataset[0][0].shape)\n",
    "\n",
    "print('lable Shape', np.shape(label))\n",
    "print('subject 1 lable shape', label[0][0].shape)\n",
    "\n",
    "print('move Shape', np.shape(move))\n",
    "print('subject 1 move shape', move[0][0].shape)"
   ]
  },
  {
   "cell_type": "code",
   "execution_count": 7,
   "metadata": {},
   "outputs": [
    {
     "name": "stdout",
     "output_type": "stream",
     "text": [
      "full train roundi database shape : (11, 3)\n",
      "full test roundi  label shape : (11, 3)\n",
      "full train database shape : (11,)\n",
      "full test label shape : (11,)\n",
      " train subject 1 round 1 database shape : (1732, 10, 512)\n",
      "test subject 1 round 1 database shape : (1155, 10, 512)\n",
      " train subject 1 round 2 database shape : (1657, 10, 512)\n",
      "test subject 1 round 2 database shape : (1118, 10, 512)\n",
      " train subject 1 round 3 database shape : (1474, 10, 512)\n",
      "test subject 1 round 3 database shape : (1024, 10, 512)\n",
      " train subject 1 database shape : (4863, 10, 512)\n",
      "test subject 1 database shape : (3297, 10, 512)\n"
     ]
    }
   ],
   "source": [
    "xtrain_r=[]\n",
    "xtest_r=[]\n",
    "ytrain_r=[]\n",
    "ytest_r=[]\n",
    "\n",
    "\n",
    "Xtrainset = []\n",
    "Xtestset = []\n",
    "Ytrainset = []\n",
    "Ytestset = []\n",
    "\n",
    "for subject in range(11):\n",
    "    xtrain_rr=[]\n",
    "    xtest_rr=[]\n",
    "    ytrain_rr=[]\n",
    "    ytest_rr=[]\n",
    "    for r in range(3):\n",
    "        xtrain_rrr=np.array([[[0]*512]*10])\n",
    "        xtest_rrr=np.array([[[0]*512]*10])\n",
    "        ytrain_rrr=np.array([0])\n",
    "        ytest_rrr=np.array([0])\n",
    "\n",
    "        tempset = dataset[subject][r]\n",
    "        tempmove = move[subject][r]\n",
    "        templabel = label[subject][r]\n",
    "        for clas in range(1,9):\n",
    "            movenum = np.unique(tempmove[templabel==clas])\n",
    "            trainsize = int((2/3) * len(movenum))\n",
    "            for i in range(trainsize):\n",
    "                xtrain_rrr = np.append(xtrain_rrr,tempset[tempmove==movenum[i]],axis=0) \n",
    "                ytrain_rrr = np.append(ytrain_rrr,templabel[tempmove==movenum[i]],axis=0)\n",
    "            for i in range(trainsize,len(movenum)):\n",
    "                xtest_rrr = np.append(xtest_rrr,tempset[tempmove==movenum[i]],axis=0) \n",
    "                ytest_rrr = np.append(ytest_rrr,templabel[tempmove==movenum[i]],axis=0)\n",
    "      \n",
    "        xtrain_rr.append(xtrain_rrr[1:])\n",
    "        xtest_rr.append(xtest_rrr[1:])\n",
    "        ytrain_rr.append(ytrain_rrr[1:])\n",
    "        ytest_rr.append(ytest_rrr[1:])\n",
    "    xtrain_r.append(xtrain_rr)\n",
    "    xtest_r.append(xtest_rr)\n",
    "    ytrain_r.append(ytrain_rr)\n",
    "    ytest_r.append(ytest_rr)\n",
    "\n",
    "    Xtrainset.append(np.append(np.append(xtrain_rr[0],xtrain_rr[1],axis=0),xtrain_rr[2],axis=0))\n",
    "    Xtestset.append(np.append(np.append(xtest_rr[0],xtest_rr[1],axis=0),xtest_rr[2],axis=0))\n",
    "    Ytrainset.append(np.append(np.append(ytrain_rr[0],ytrain_rr[1],axis=0),ytrain_rr[2],axis=0))\n",
    "    Ytestset.append(np.append(np.append(ytest_rr[0],ytest_rr[1],axis=0),ytest_rr[2],axis=0))\n",
    "\n",
    "print(\"full train roundi database shape : \" + str(np.shape(xtrain_r)))\n",
    "print(\"full test roundi  label shape : \" + str(np.shape(xtest_r)))\n",
    "\n",
    "print(\"full train database shape : \" + str(np.shape(Xtrainset)))\n",
    "print(\"full test label shape : \" + str(np.shape(Xtestset)))\n",
    "\n",
    "print(\" train subject 1 round 1 database shape : \" + str(xtrain_r[0][0].shape))\n",
    "print(\"test subject 1 round 1 database shape : \" + str(xtest_r[0][0].shape))\n",
    "\n",
    "print(\" train subject 1 round 2 database shape : \" + str(xtrain_r[0][1].shape))\n",
    "print(\"test subject 1 round 2 database shape : \" + str(xtest_r[0][1].shape))\n",
    "\n",
    "print(\" train subject 1 round 3 database shape : \" + str(xtrain_r[0][2].shape))\n",
    "print(\"test subject 1 round 3 database shape : \" + str(xtest_r[0][2].shape))\n",
    "\n",
    "print(\" train subject 1 database shape : \" + str(Xtrainset[0].shape))\n",
    "print(\"test subject 1 database shape : \" + str(Xtestset[0].shape))\n"
   ]
  },
  {
   "cell_type": "code",
   "execution_count": 8,
   "metadata": {},
   "outputs": [
    {
     "name": "stdout",
     "output_type": "stream",
     "text": [
      "full test label shape : (3297, 10, 512)\n",
      "full test label shape : (3301, 10, 512)\n",
      "full test label shape : (3280, 10, 512)\n",
      "full test label shape : (3073, 10, 512)\n",
      "full test label shape : (3324, 10, 512)\n",
      "full test label shape : (3308, 10, 512)\n",
      "full test label shape : (3273, 10, 512)\n",
      "full test label shape : (3041, 10, 512)\n",
      "full test label shape : (3174, 10, 512)\n",
      "full test label shape : (3294, 10, 512)\n",
      "full test label shape : (3254, 10, 512)\n",
      "full test label shape : (3297, 10, 512, 1)\n"
     ]
    }
   ],
   "source": [
    "from sklearn.utils import shuffle\n",
    "for i in range(11):\n",
    "    Xtrainset[i] , Ytrainset[i] = shuffle(Xtrainset[i],Ytrainset[i])\n",
    "    Xtestset[i] , Ytestset[i] = shuffle(Xtestset[i],Ytestset[i])\n",
    "  # Xtrainset[i] = np.swapaxes(Xtrainset[i],1,2)\n",
    "  # Xtestset[i] = np.swapaxes(Xtestset[i],1,2)\n",
    "    print(\"full test label shape : \" + str(Xtestset[i].shape))\n",
    "for i in range (11):\n",
    "    Xtrainset[i] = Xtrainset[i].reshape(Xtrainset[i].shape[0],Xtrainset[i].shape[1],Xtrainset[i].shape[2],1)\n",
    "    Xtestset[i] = Xtestset[i].reshape(Xtestset[i].shape[0],Xtestset[i].shape[1],Xtestset[i].shape[2],1)\n",
    "print(\"full test label shape : \" + str(Xtestset[0].shape))"
   ]
  },
  {
   "cell_type": "code",
   "execution_count": 9,
   "metadata": {},
   "outputs": [
    {
     "name": "stdout",
     "output_type": "stream",
     "text": [
      "[8. 4. 5. 6. 1. 1. 3. 8. 3. 3.]\n",
      "[[0. 0. 0. 0. 0. 0. 0. 1.]\n",
      " [0. 0. 0. 1. 0. 0. 0. 0.]\n",
      " [0. 0. 0. 0. 1. 0. 0. 0.]\n",
      " [0. 0. 0. 0. 0. 1. 0. 0.]\n",
      " [1. 0. 0. 0. 0. 0. 0. 0.]\n",
      " [1. 0. 0. 0. 0. 0. 0. 0.]\n",
      " [0. 0. 1. 0. 0. 0. 0. 0.]\n",
      " [0. 0. 0. 0. 0. 0. 0. 1.]\n",
      " [0. 0. 1. 0. 0. 0. 0. 0.]\n",
      " [0. 0. 1. 0. 0. 0. 0. 0.]]\n",
      "Result on test set for taregt domain: accuracy: 93.66%\n"
     ]
    }
   ],
   "source": [
    "Xtest=Xtestset[0]\n",
    "ytest=Ytestset[0]\n",
    "print(ytest[:10])\n",
    "ytest=to_categorical(ytest-1,8)\n",
    "print(ytest[:10,:])\n",
    "# evaluate the model\n",
    "scores = saved_modelt.evaluate(Xtest, ytest, verbose=0)\n",
    "# a = saved_model.evaluate(self.xtest[1], to_categorical(self.ytest[1]-1,8), verbose=0)\n",
    "print(\"Result on test set for taregt domain: %s: %.2f%%\" % (saved_modelt.metrics_names[1], scores[1] * 100))\n",
    "preds=saved_modelt.predict(Xtest)\n"
   ]
  },
  {
   "cell_type": "code",
   "execution_count": 10,
   "metadata": {},
   "outputs": [
    {
     "data": {
      "text/plain": [
       "(10, 512)"
      ]
     },
     "execution_count": 10,
     "metadata": {},
     "output_type": "execute_result"
    }
   ],
   "source": [
    "Xtest[0,:,:,0].shape"
   ]
  },
  {
   "cell_type": "code",
   "execution_count": 11,
   "metadata": {},
   "outputs": [],
   "source": [
    "x=np.expand_dims(Xtest[8], axis=0)\n"
   ]
  },
  {
   "cell_type": "code",
   "execution_count": 12,
   "metadata": {},
   "outputs": [
    {
     "name": "stdout",
     "output_type": "stream",
     "text": [
      "[[0. 0. 0. 0. 0. 0. 0. 1.]\n",
      " [0. 0. 0. 1. 0. 0. 0. 0.]\n",
      " [0. 0. 0. 0. 1. 0. 0. 0.]\n",
      " [0. 0. 0. 0. 0. 1. 0. 0.]\n",
      " [1. 0. 0. 0. 0. 0. 0. 0.]\n",
      " [1. 0. 0. 0. 0. 0. 0. 0.]\n",
      " [0. 0. 1. 0. 0. 0. 0. 0.]\n",
      " [0. 0. 0. 0. 0. 0. 0. 1.]\n",
      " [0. 0. 1. 0. 0. 0. 0. 0.]\n",
      " [0. 0. 1. 0. 0. 0. 0. 0.]]\n"
     ]
    }
   ],
   "source": [
    "print(to_categorical((np.argmax((preds), axis=1)),8)[:10])\n",
    "#print(to_categorical(preds-1,8))\n",
    "#print(y_test[:10])"
   ]
  },
  {
   "cell_type": "markdown",
   "metadata": {},
   "source": [
    "## GRADCAM"
   ]
  },
  {
   "cell_type": "code",
   "execution_count": 48,
   "metadata": {},
   "outputs": [],
   "source": [
    "#import guided_grad_cam_our_model\n",
    "from guided_grad_cam_our_model import load_image, deprocess_image, normalize,build_guided_model, guided_backprop, grad_cam, grad_cam_batch, compute_saliency"
   ]
  },
  {
   "cell_type": "code",
   "execution_count": 49,
   "metadata": {},
   "outputs": [
    {
     "name": "stdout",
     "output_type": "stream",
     "text": [
      "Model: \"Resnet\"\n",
      "__________________________________________________________________________________________________\n",
      "Layer (type)                    Output Shape         Param #     Connected to                     \n",
      "==================================================================================================\n",
      "input_28 (InputLayer)           (None, 10, 512, 1)   0                                            \n",
      "__________________________________________________________________________________________________\n",
      "conv2d_136 (Conv2D)             (None, 10, 128, 32)  448         input_28[0][0]                   \n",
      "__________________________________________________________________________________________________\n",
      "batch_normalization_163 (BatchN (None, 10, 128, 32)  40          conv2d_136[0][0]                 \n",
      "__________________________________________________________________________________________________\n",
      "r_re_lu_163 (RReLU)             (None, 10, 128, 32)  0           batch_normalization_163[0][0]    \n",
      "__________________________________________________________________________________________________\n",
      "dropout_136 (Dropout)           (None, 10, 128, 32)  0           r_re_lu_163[0][0]                \n",
      "__________________________________________________________________________________________________\n",
      "conv2d_137 (Conv2D)             (None, 10, 128, 48)  13872       dropout_136[0][0]                \n",
      "__________________________________________________________________________________________________\n",
      "conv2d_139 (Conv2D)             (None, 10, 128, 48)  672         input_28[0][0]                   \n",
      "__________________________________________________________________________________________________\n",
      "batch_normalization_164 (BatchN (None, 10, 128, 48)  40          conv2d_137[0][0]                 \n",
      "__________________________________________________________________________________________________\n",
      "batch_normalization_165 (BatchN (None, 10, 128, 48)  40          conv2d_139[0][0]                 \n",
      "__________________________________________________________________________________________________\n",
      "r_re_lu_164 (RReLU)             (None, 10, 128, 48)  0           batch_normalization_164[0][0]    \n",
      "__________________________________________________________________________________________________\n",
      "r_re_lu_165 (RReLU)             (None, 10, 128, 48)  0           batch_normalization_165[0][0]    \n",
      "__________________________________________________________________________________________________\n",
      "max_pooling2d_28 (MaxPooling2D) (None, 10, 32, 48)   0           r_re_lu_164[0][0]                \n",
      "__________________________________________________________________________________________________\n",
      "average_pooling2d_55 (AveragePo (None, 10, 32, 48)   0           r_re_lu_165[0][0]                \n",
      "__________________________________________________________________________________________________\n",
      "dropout_137 (Dropout)           (None, 10, 32, 48)   0           max_pooling2d_28[0][0]           \n",
      "__________________________________________________________________________________________________\n",
      "dropout_138 (Dropout)           (None, 10, 32, 48)   0           average_pooling2d_55[0][0]       \n",
      "__________________________________________________________________________________________________\n",
      "conv2d_138 (Conv2D)             (None, 10, 32, 64)   15424       dropout_137[0][0]                \n",
      "__________________________________________________________________________________________________\n",
      "conv2d_140 (Conv2D)             (None, 10, 32, 64)   15424       dropout_138[0][0]                \n",
      "__________________________________________________________________________________________________\n",
      "add_28 (Add)                    (None, 10, 32, 64)   0           conv2d_138[0][0]                 \n",
      "                                                                 conv2d_140[0][0]                 \n",
      "__________________________________________________________________________________________________\n",
      "batch_normalization_166 (BatchN (None, 10, 32, 64)   40          add_28[0][0]                     \n",
      "__________________________________________________________________________________________________\n",
      "r_re_lu_166 (RReLU)             (None, 10, 32, 64)   0           batch_normalization_166[0][0]    \n",
      "__________________________________________________________________________________________________\n",
      "average_pooling2d_56 (AveragePo (None, 10, 8, 64)    0           r_re_lu_166[0][0]                \n",
      "__________________________________________________________________________________________________\n",
      "dropout_139 (Dropout)           (None, 10, 8, 64)    0           average_pooling2d_56[0][0]       \n",
      "__________________________________________________________________________________________________\n",
      "flatten_28 (Flatten)            (None, 5120)         0           dropout_139[0][0]                \n",
      "__________________________________________________________________________________________________\n",
      "dense_82 (Dense)                (None, 150)          768150      flatten_28[0][0]                 \n",
      "__________________________________________________________________________________________________\n",
      "batch_normalization_167 (BatchN (None, 150)          600         dense_82[0][0]                   \n",
      "__________________________________________________________________________________________________\n",
      "r_re_lu_167 (RReLU)             (None, 150)          0           batch_normalization_167[0][0]    \n",
      "__________________________________________________________________________________________________\n",
      "dropout_140 (Dropout)           (None, 150)          0           r_re_lu_167[0][0]                \n",
      "__________________________________________________________________________________________________\n",
      "dense_83 (Dense)                (None, 50)           7550        dropout_140[0][0]                \n",
      "__________________________________________________________________________________________________\n",
      "batch_normalization_168 (BatchN (None, 50)           200         dense_83[0][0]                   \n",
      "__________________________________________________________________________________________________\n",
      "r_re_lu_168 (RReLU)             (None, 50)           0           batch_normalization_168[0][0]    \n",
      "__________________________________________________________________________________________________\n",
      "dense_84 (Dense)                (None, 8)            408         r_re_lu_168[0][0]                \n",
      "==================================================================================================\n",
      "Total params: 822,908\n",
      "Trainable params: 822,428\n",
      "Non-trainable params: 480\n",
      "__________________________________________________________________________________________________\n"
     ]
    }
   ],
   "source": [
    "guided_model = build_guided_model()\n",
    "guided_model.summary()"
   ]
  },
  {
   "cell_type": "code",
   "execution_count": 86,
   "metadata": {},
   "outputs": [
    {
     "name": "stdout",
     "output_type": "stream",
     "text": [
      "5\n"
     ]
    }
   ],
   "source": [
    "#plt.imshow(load_image(image_path, H, W)[0])\n",
    "gradcam, gb, guided_gradcam = compute_saliency(saved_modelt, guided_model, './ciao.png', x, layer_name='conv2d_140',\n",
    "                                                cls=-1, visualize=False, save=False)\n"
   ]
  },
  {
   "cell_type": "code",
   "execution_count": 32,
   "metadata": {},
   "outputs": [
    {
     "data": {
      "text/plain": [
       "0.0"
      ]
     },
     "execution_count": 32,
     "metadata": {},
     "output_type": "execute_result"
    }
   ],
   "source": [
    "gradcam\n"
   ]
  },
  {
   "cell_type": "code",
   "execution_count": 21,
   "metadata": {},
   "outputs": [
    {
     "data": {
      "text/plain": [
       "(10, 512)"
      ]
     },
     "execution_count": 21,
     "metadata": {},
     "output_type": "execute_result"
    }
   ],
   "source": [
    "x[0,:,:,0].shape"
   ]
  },
  {
   "cell_type": "code",
   "execution_count": 87,
   "metadata": {},
   "outputs": [
    {
     "data": {
      "image/png": "[encoded data removed]",
      "text/plain": [
       "<Figure size 2160x720 with 1 Axes>"
      ]
     },
     "metadata": {
      "needs_background": "light"
     },
     "output_type": "display_data"
    }
   ],
   "source": [
    "plt.figure(figsize=(30,10)) \n",
    "plt.imshow(x[0,:,:,0], interpolation='nearest', cmap='Greys')\n",
    "plt.imshow(gradcam, cmap='jet', aspect='auto', alpha=0.5)\n",
    "#plt.imshow(x[0,:,:,0], cmap='Greys')\n",
    "plt.savefig('C:\\\\Users\\\\noemi\\\\Desktop\\\\university\\\\university\\\\tesi\\\\Thesis-XAI\\\\resources\\\\images\\\\gradcam_label5.jpg')"
   ]
  },
  {
   "cell_type": "code",
   "execution_count": 30,
   "metadata": {},
   "outputs": [
    {
     "data": {
      "text/plain": [
       "<matplotlib.image.AxesImage at 0x2762326af48>"
      ]
     },
     "execution_count": 30,
     "metadata": {},
     "output_type": "execute_result"
    },
    {
     "data": {
      "image/png": "[encoded data removed]",
      "text/plain": [
       "<Figure size 432x288 with 1 Axes>"
      ]
     },
     "metadata": {
      "needs_background": "light"
     },
     "output_type": "display_data"
    }
   ],
   "source": [
    "plt.imshow(np.flip(deprocess_image(gb[0,:,:,0]), -1))"
   ]
  },
  {
   "cell_type": "code",
   "execution_count": 31,
   "metadata": {},
   "outputs": [
    {
     "data": {
      "text/plain": [
       "<matplotlib.image.AxesImage at 0x276232ce8c8>"
      ]
     },
     "execution_count": 31,
     "metadata": {},
     "output_type": "execute_result"
    },
    {
     "data": {
      "image/png": "[encoded data removed]",
      "text/plain": [
       "<Figure size 432x288 with 1 Axes>"
      ]
     },
     "metadata": {
      "needs_background": "light"
     },
     "output_type": "display_data"
    }
   ],
   "source": [
    "plt.imshow(np.flip(deprocess_image(guided_gradcam[0,:,:,0]), -1))"
   ]
  },
  {
   "cell_type": "markdown",
   "metadata": {},
   "source": [
    "## SHAP"
   ]
  },
  {
   "cell_type": "code",
   "execution_count": 13,
   "metadata": {},
   "outputs": [],
   "source": [
    "import requests\n",
    "from skimage.segmentation import slic, felzenszwalb\n",
    "import shap"
   ]
  },
  {
   "cell_type": "code",
   "execution_count": 14,
   "metadata": {},
   "outputs": [],
   "source": [
    "# load model data\n",
    "r = requests.get('https://s3.amazonaws.com/deep-learning-models/image-models/imagenet_class_index.json')\n",
    "feature_names = r.json()"
   ]
  },
  {
   "cell_type": "code",
   "execution_count": 15,
   "metadata": {},
   "outputs": [
    {
     "ename": "NameError",
     "evalue": "name 'image_path' is not defined",
     "output_type": "error",
     "traceback": [
      "\u001b[1;31m---------------------------------------------------------------------------\u001b[0m",
      "\u001b[1;31mNameError\u001b[0m                                 Traceback (most recent call last)",
      "\u001b[1;32m<ipython-input-15-52f6c174fe53>\u001b[0m in \u001b[0;36m<module>\u001b[1;34m\u001b[0m\n\u001b[1;32m----> 1\u001b[1;33m \u001b[0mimg\u001b[0m \u001b[1;33m=\u001b[0m \u001b[0mimage\u001b[0m\u001b[1;33m.\u001b[0m\u001b[0mload_img\u001b[0m\u001b[1;33m(\u001b[0m\u001b[0mimage_path\u001b[0m\u001b[1;33m,\u001b[0m \u001b[0mtarget_size\u001b[0m\u001b[1;33m=\u001b[0m\u001b[1;33m(\u001b[0m\u001b[1;36m224\u001b[0m\u001b[1;33m,\u001b[0m \u001b[1;36m224\u001b[0m\u001b[1;33m)\u001b[0m\u001b[1;33m)\u001b[0m\u001b[1;33m\u001b[0m\u001b[1;33m\u001b[0m\u001b[0m\n\u001b[0m\u001b[0;32m      2\u001b[0m \u001b[0mimg_orig\u001b[0m \u001b[1;33m=\u001b[0m \u001b[0mimage\u001b[0m\u001b[1;33m.\u001b[0m\u001b[0mimg_to_array\u001b[0m\u001b[1;33m(\u001b[0m\u001b[0mimg\u001b[0m\u001b[1;33m)\u001b[0m\u001b[1;33m\u001b[0m\u001b[1;33m\u001b[0m\u001b[0m\n\u001b[0;32m      3\u001b[0m \u001b[0mpreds\u001b[0m\u001b[1;33m=\u001b[0m\u001b[0mmodel\u001b[0m\u001b[1;33m.\u001b[0m\u001b[0mpredict\u001b[0m\u001b[1;33m(\u001b[0m\u001b[0mpreprocess_input\u001b[0m\u001b[1;33m(\u001b[0m\u001b[0mnp\u001b[0m\u001b[1;33m.\u001b[0m\u001b[0mexpand_dims\u001b[0m\u001b[1;33m(\u001b[0m\u001b[0mimg_orig\u001b[0m\u001b[1;33m,\u001b[0m \u001b[0maxis\u001b[0m\u001b[1;33m=\u001b[0m\u001b[1;36m0\u001b[0m\u001b[1;33m)\u001b[0m\u001b[1;33m)\u001b[0m\u001b[1;33m)\u001b[0m\u001b[1;33m\u001b[0m\u001b[1;33m\u001b[0m\u001b[0m\n\u001b[0;32m      4\u001b[0m \u001b[0mprint\u001b[0m\u001b[1;33m(\u001b[0m\u001b[0mdecode_predictions\u001b[0m\u001b[1;33m(\u001b[0m\u001b[0mpreds\u001b[0m\u001b[1;33m,\u001b[0m\u001b[1;36m10\u001b[0m\u001b[1;33m)\u001b[0m\u001b[1;33m)\u001b[0m\u001b[1;33m\u001b[0m\u001b[1;33m\u001b[0m\u001b[0m\n",
      "\u001b[1;31mNameError\u001b[0m: name 'image_path' is not defined"
     ]
    }
   ],
   "source": [
    "img = image.load_img(image_path, target_size=(224, 224))\n",
    "img_orig = image.img_to_array(img)\n",
    "preds=model.predict(preprocess_input(np.expand_dims(img_orig, axis=0)))\n",
    "print(decode_predictions(preds,10))"
   ]
  },
  {
   "cell_type": "code",
   "execution_count": 16,
   "metadata": {},
   "outputs": [
    {
     "name": "stdout",
     "output_type": "stream",
     "text": [
      "(10, 512)\n",
      "[ 0  1  2  3  4  5  6  7  8  9 10 11 12 13 14 15 16 17 18 19 20 21 22 23\n",
      " 24 25 26 27 28 29 30 31 32 33 34 35 36 37 38 39 40 41 42 43 44 45 46 47\n",
      " 48 49 50 51 52 53 54 55 56 57 58 59 60 61 62 63 64 65 66 67 68 69 70 71]\n",
      "[[ 0  0  0 ... 31 31 31]\n",
      " [ 0  0  0 ... 31 31 31]\n",
      " [ 0  0  0 ... 31 31 31]\n",
      " ...\n",
      " [ 0  0  0 ... 63 63 63]\n",
      " [ 0  0  0 ... 63 63 63]\n",
      " [ 0  0  0 ... 63 63 63]]\n"
     ]
    },
    {
     "data": {
      "image/png": "[encoded data removed]",
      "text/plain": [
       "<Figure size 2160x720 with 1 Axes>"
      ]
     },
     "metadata": {
      "needs_background": "light"
     },
     "output_type": "display_data"
    }
   ],
   "source": [
    "segments_slic = felzenszwalb(Xtest[0,:,:,0], scale=0.0001, sigma=0.6)\n",
    "print(segments_slic.shape)\n",
    "segments_slic\n",
    "print(np.unique(segments_slic))\n",
    "print(segments_slic)\n",
    "plt.figure(figsize=(30,10)) \n",
    "plt.imshow(segments_slic, aspect=\"auto\");\n",
    "plt.axis('off');"
   ]
  },
  {
   "cell_type": "code",
   "execution_count": 17,
   "metadata": {},
   "outputs": [],
   "source": [
    "# define a function that depends on a binary mask representing if an image region is hidden\n",
    "def mask_image(zs, segmentation, image, background=None):\n",
    "    if background is None:\n",
    "        background = image.mean((0,1))\n",
    "    out = np.zeros((zs.shape[0], image.shape[0], image.shape[1], image.shape[2]))\n",
    "    for i in range(zs.shape[0]):\n",
    "        out[i,:,:,:] = image\n",
    "        for j in range(zs.shape[1]):\n",
    "            if zs[i,j] == 0:\n",
    "                out[i][segmentation == j,:] = background\n",
    "    return out\n",
    "def f(z):\n",
    "    return saved_modelt.predict((mask_image(z, segments_slic, Xtest[0,:,:,:], 255)))"
   ]
  },
  {
   "cell_type": "code",
   "execution_count": 18,
   "metadata": {},
   "outputs": [
    {
     "data": {
      "application/vnd.jupyter.widget-view+json": {
       "model_id": "934ac8e566af40da901315fd93d66d47",
       "version_major": 2,
       "version_minor": 0
      },
      "text/plain": [
       "HBox(children=(FloatProgress(value=0.0, max=1.0), HTML(value='')))"
      ]
     },
     "metadata": {},
     "output_type": "display_data"
    },
    {
     "name": "stderr",
     "output_type": "stream",
     "text": [
      "l1_reg=\"auto\" is deprecated and in the next version (v0.29) the behavior will change from a conditional use of AIC to simply \"num_features(10)\"!\n",
      "l1_reg=\"auto\" is deprecated and in the next version (v0.29) the behavior will change from a conditional use of AIC to simply \"num_features(10)\"!\n",
      "l1_reg=\"auto\" is deprecated and in the next version (v0.29) the behavior will change from a conditional use of AIC to simply \"num_features(10)\"!\n",
      "l1_reg=\"auto\" is deprecated and in the next version (v0.29) the behavior will change from a conditional use of AIC to simply \"num_features(10)\"!\n",
      "l1_reg=\"auto\" is deprecated and in the next version (v0.29) the behavior will change from a conditional use of AIC to simply \"num_features(10)\"!\n",
      "l1_reg=\"auto\" is deprecated and in the next version (v0.29) the behavior will change from a conditional use of AIC to simply \"num_features(10)\"!\n"
     ]
    },
    {
     "name": "stdout",
     "output_type": "stream",
     "text": [
      "\n"
     ]
    },
    {
     "name": "stderr",
     "output_type": "stream",
     "text": [
      "l1_reg=\"auto\" is deprecated and in the next version (v0.29) the behavior will change from a conditional use of AIC to simply \"num_features(10)\"!\n",
      "l1_reg=\"auto\" is deprecated and in the next version (v0.29) the behavior will change from a conditional use of AIC to simply \"num_features(10)\"!\n"
     ]
    }
   ],
   "source": [
    "# use Kernel SHAP to explain the network's predictions\n",
    "explainer = shap.KernelExplainer(f, np.zeros((1,71)))\n",
    "shap_values = explainer.shap_values(np.ones((1,71)), nsamples=1000) # runs VGG16 1000 times"
   ]
  },
  {
   "cell_type": "code",
   "execution_count": 19,
   "metadata": {},
   "outputs": [
    {
     "name": "stdout",
     "output_type": "stream",
     "text": [
      "8\n"
     ]
    },
    {
     "data": {
      "text/plain": [
       "7"
      ]
     },
     "execution_count": 19,
     "metadata": {},
     "output_type": "execute_result"
    }
   ],
   "source": [
    "print(len(shap_values))\n",
    "shap_values[0].shape\n",
    "# get the top predictions from the model\n",
    "#preds = model.predict(preprocess_input(np.expand_dims(img_orig.copy(), axis=0)))\n",
    "#print(decode_predictions(preds))\n",
    "top_preds = np.argsort(-preds)\n",
    "np.argmax(preds[0])"
   ]
  },
  {
   "cell_type": "code",
   "execution_count": 20,
   "metadata": {},
   "outputs": [],
   "source": [
    "# make a color map\n",
    "from matplotlib.colors import LinearSegmentedColormap\n",
    "colors = []\n",
    "for l in np.linspace(1,0,100):\n",
    "    colors.append((245/255,39/255,87/255,l))\n",
    "for l in np.linspace(0,1,100):\n",
    "    colors.append((24/255,196/255,93/255,l))\n",
    "cm = LinearSegmentedColormap.from_list(\"shap\", colors)"
   ]
  },
  {
   "cell_type": "code",
   "execution_count": 21,
   "metadata": {},
   "outputs": [],
   "source": [
    "def fill_segmentation(values, segmentation):\n",
    "    out = np.zeros(segmentation.shape)\n",
    "    for i in range(len(values)):\n",
    "        out[segmentation == i] = values[i]\n",
    "    return out\n",
    "inds = top_preds[0]\n",
    "max_val = np.max([np.max(np.abs(shap_values[i][:,:-1])) for i in range(len(shap_values))])"
   ]
  },
  {
   "cell_type": "code",
   "execution_count": 22,
   "metadata": {},
   "outputs": [
    {
     "name": "stdout",
     "output_type": "stream",
     "text": [
      "[[0.03106097 0.03106097 0.03106097 ... 0.         0.         0.        ]\n",
      " [0.03106097 0.03106097 0.03106097 ... 0.         0.         0.        ]\n",
      " [0.03106097 0.03106097 0.03106097 ... 0.         0.         0.        ]\n",
      " ...\n",
      " [0.03106097 0.03106097 0.03106097 ... 0.         0.         0.        ]\n",
      " [0.03106097 0.03106097 0.03106097 ... 0.         0.         0.        ]\n",
      " [0.03106097 0.03106097 0.03106097 ... 0.         0.         0.        ]]\n"
     ]
    },
    {
     "data": {
      "text/plain": [
       "<matplotlib.image.AxesImage at 0x26b03d93e48>"
      ]
     },
     "execution_count": 22,
     "metadata": {},
     "output_type": "execute_result"
    },
    {
     "data": {
      "image/png": "[encoded data removed]",
      "text/plain": [
       "<Figure size 2160x720 with 1 Axes>"
      ]
     },
     "metadata": {
      "needs_background": "light"
     },
     "output_type": "display_data"
    }
   ],
   "source": [
    "#best result\n",
    "m = fill_segmentation(shap_values[inds[0]][0], segments_slic)\n",
    "print(m)\n",
    "plt.figure(figsize=(30,10))\n",
    "plt.imshow(m, cmap=cm, vmin=-max_val, vmax=max_val, aspect=\"auto\")"
   ]
  },
  {
   "cell_type": "code",
   "execution_count": 198,
   "metadata": {},
   "outputs": [
    {
     "data": {
      "text/plain": [
       "0.0839865312713709"
      ]
     },
     "execution_count": 198,
     "metadata": {},
     "output_type": "execute_result"
    }
   ],
   "source": []
  },
  {
   "cell_type": "code",
   "execution_count": 23,
   "metadata": {
    "scrolled": true
   },
   "outputs": [
    {
     "data": {
      "image/png": "[encoded data removed]",
      "text/plain": [
       "<Figure size 864x288 with 3 Axes>"
      ]
     },
     "metadata": {
      "needs_background": "light"
     },
     "output_type": "display_data"
    },
    {
     "data": {
      "text/plain": [
       "<Figure size 2160x720 with 0 Axes>"
      ]
     },
     "metadata": {},
     "output_type": "display_data"
    },
    {
     "data": {
      "text/plain": [
       "<Figure size 432x288 with 0 Axes>"
      ]
     },
     "metadata": {},
     "output_type": "display_data"
    }
   ],
   "source": [
    "# plot our explanations\n",
    "fig, axes = plt.subplots(nrows=1, ncols=2, figsize=(12,4))\n",
    "plt.figure(figsize=(30,10))\n",
    "axes[0].imshow(Xtest[0,:,:,0], cmap='gray',aspect=\"auto\")\n",
    "axes[0].axis('off')\n",
    "for i in range(1):\n",
    "    m = fill_segmentation(shap_values[inds[i]][0], segments_slic)\n",
    "    #axes[i+1].set_title(feature_names[str(inds[i])][1])\n",
    "\n",
    "    axes[i+1].imshow(Xtest[0,:,:,0], cmap='gray',aspect=\"auto\")\n",
    "    im = axes[i+1].imshow(m, cmap=cm, vmin=-max_val, vmax=max_val, aspect=\"auto\")\n",
    "    \n",
    "    axes[i+1].axis('off', aspect=\"auto\")\n",
    "cb = fig.colorbar(im, ax=axes.ravel().tolist(), label=\"SHAP value\", orientation=\"horizontal\", aspect=60)\n",
    "cb.outline.set_visible(False)\n",
    "plt.show()\n",
    "plt.savefig(\"./shap_image.jpg\")"
   ]
  },
  {
   "cell_type": "markdown",
   "metadata": {},
   "source": [
    "## SEGMENTATION"
   ]
  },
  {
   "cell_type": "code",
   "execution_count": 24,
   "metadata": {},
   "outputs": [
    {
     "name": "stdout",
     "output_type": "stream",
     "text": [
      "(10, 512)\n",
      "[ 0  1  2  3  4  5  6  7  8  9 10 11 12 13 14 15 16 17 18 19 20 21 22 23\n",
      " 24 25 26 27 28 29 30 31 32 33 34 35 36 37 38 39 40 41 42 43 44 45 46 47\n",
      " 48 49 50 51 52 53 54 55 56 57 58 59 60]\n",
      "[[ 0  0  0 ... 18 18 18]\n",
      " [ 0  0  0 ... 18 18 18]\n",
      " [ 0  0  0 ... 18 18 18]\n",
      " ...\n",
      " [19 19 19 ... 46 46 46]\n",
      " [57 57 57 ... 46 46 46]\n",
      " [57 57 57 ... 46 46 46]]\n"
     ]
    },
    {
     "data": {
      "image/png": "[encoded data removed]",
      "text/plain": [
       "<Figure size 2160x720 with 1 Axes>"
      ]
     },
     "metadata": {
      "needs_background": "light"
     },
     "output_type": "display_data"
    }
   ],
   "source": [
    "from skimage.segmentation import slic, felzenszwalb\n",
    "\n",
    "segments_slic = felzenszwalb(Xtest[0,:,:,0], scale=0.0001, sigma=0.2)\n",
    "print(segments_slic.shape)\n",
    "segments_slic\n",
    "print(np.unique(segments_slic))\n",
    "print(segments_slic)\n",
    "plt.figure(figsize=(30,10)) \n",
    "plt.imshow(segments_slic, aspect=\"auto\");\n",
    "plt.axis('off');\n"
   ]
  },
  {
   "cell_type": "code",
   "execution_count": 25,
   "metadata": {},
   "outputs": [
    {
     "name": "stdout",
     "output_type": "stream",
     "text": [
      "(10, 512)\n",
      "(266,)\n",
      "[[ 37  37  37 ...  36  62  62]\n",
      " [ 37  37  37 ...  62  62  62]\n",
      " [ 79  79  79 ... 105 106 106]\n",
      " ...\n",
      " [237 208 208 ... 173 106 266]\n",
      " [237 208 208 ... 207 266 266]\n",
      " [237 237 208 ... 207 266 266]]\n"
     ]
    },
    {
     "data": {
      "image/png": "[encoded data removed]",
      "text/plain": [
       "<Figure size 2160x720 with 1 Axes>"
      ]
     },
     "metadata": {
      "needs_background": "light"
     },
     "output_type": "display_data"
    }
   ],
   "source": [
    "from skimage.segmentation import watershed\n",
    "segments_slic=watershed(Xtest[0,:,:,0])\n",
    "print(segments_slic.shape)\n",
    "segments_slic\n",
    "print(np.unique(segments_slic).shape)\n",
    "print(segments_slic)\n",
    "plt.figure(figsize=(30,10)) \n",
    "plt.imshow(segments_slic, aspect=\"auto\");\n",
    "plt.axis('off');"
   ]
  },
  {
   "cell_type": "code",
   "execution_count": 26,
   "metadata": {},
   "outputs": [
    {
     "name": "stdout",
     "output_type": "stream",
     "text": [
      "(10, 512)\n",
      "[ 0  1  2  3  4  5  6  7  8  9 10 11 12 13 14 15 16 17 18 19 20 21 22 23\n",
      " 24 25 26 27 28 29 30 31 32 33 34 35]\n",
      "[[ 0  0  0 ... 31 31 31]\n",
      " [ 0  0  0 ... 31 31 31]\n",
      " [ 0  0  0 ... 31 31 31]\n",
      " ...\n",
      " [ 0  0  0 ... 31 31 31]\n",
      " [ 0  0  0 ... 31 31 31]\n",
      " [ 0  0  0 ... 31 31 31]]\n"
     ]
    },
    {
     "data": {
      "image/png": "[encoded data removed]",
      "text/plain": [
       "<Figure size 2160x720 with 1 Axes>"
      ]
     },
     "metadata": {
      "needs_background": "light"
     },
     "output_type": "display_data"
    }
   ],
   "source": [
    "from skimage.segmentation import quickshift\n",
    "segments_slic=quickshift(Xtest[0,:,:,0], ratio=0.2, kernel_size=2, max_dist=5, sigma=0, convert2lab=False)\n",
    "print(segments_slic.shape)\n",
    "segments_slic\n",
    "print(np.unique(segments_slic))\n",
    "print(segments_slic)\n",
    "plt.figure(figsize=(30,10)) \n",
    "plt.imshow(segments_slic, aspect=\"auto\");\n",
    "plt.axis('off');"
   ]
  },
  {
   "cell_type": "code",
   "execution_count": 27,
   "metadata": {},
   "outputs": [
    {
     "name": "stdout",
     "output_type": "stream",
     "text": [
      "(10, 512)\n",
      "(5120,)\n",
      "[[0.88290777 0.86375201 0.84868066 ... 0.81106387 0.82316971 0.82353234]\n",
      " [0.88128545 0.86014712 0.84418231 ... 0.80120553 0.81424139 0.81981999]\n",
      " [0.89481733 0.86502271 0.84685013 ... 0.85911398 0.9044288  0.94427079]\n",
      " ...\n",
      " [0.84668767 0.83321334 0.81502084 ... 0.70673529 0.75855597 0.78088108]\n",
      " [0.86785219 0.83725469 0.81065998 ... 0.74384846 0.75459437 0.74498645]\n",
      " [0.82301039 0.82840164 0.82793261 ... 0.63941368 0.63767729 0.63981147]]\n"
     ]
    },
    {
     "data": {
      "image/png": "[encoded data removed]",
      "text/plain": [
       "<Figure size 2160x720 with 1 Axes>"
      ]
     },
     "metadata": {
      "needs_background": "light"
     },
     "output_type": "display_data"
    }
   ],
   "source": [
    "from skimage.segmentation import inverse_gaussian_gradient\n",
    "segments_slic=inverse_gaussian_gradient(Xtest[0,:,:,0], alpha=50.0, sigma=2.0)\n",
    "print(segments_slic.shape)\n",
    "segments_slic\n",
    "print(np.unique(segments_slic).shape)\n",
    "print(segments_slic)\n",
    "plt.figure(figsize=(30,10)) \n",
    "plt.imshow(segments_slic, aspect=\"auto\");\n",
    "plt.axis('off');"
   ]
  },
  {
   "cell_type": "code",
   "execution_count": 28,
   "metadata": {},
   "outputs": [
    {
     "name": "stdout",
     "output_type": "stream",
     "text": [
      "(10, 512)\n",
      "[ 0  1  2  3  4  5  6  7  8  9 10 11 12 13 14 15 16 17 18 19 20 21 22 23\n",
      " 24 25 26 27 28 29 30 31 32 33 34 35 36 37 38 39 40 41 42 43 44 45 46 47\n",
      " 48 49 50]\n",
      "[[ 0  0  0 ... 50 50 50]\n",
      " [ 0  0  0 ... 50 50 50]\n",
      " [ 0  0  0 ... 50 50 50]\n",
      " ...\n",
      " [ 0  0  0 ... 50 50 50]\n",
      " [ 0  0  0 ... 50 50 50]\n",
      " [ 0  0  0 ... 50 50 50]]\n"
     ]
    },
    {
     "data": {
      "image/png": "[encoded data removed]",
      "text/plain": [
       "<Figure size 2160x720 with 1 Axes>"
      ]
     },
     "metadata": {
      "needs_background": "light"
     },
     "output_type": "display_data"
    }
   ],
   "source": [
    "# segment the image so we don't have to explain every pixel\n",
    "segments_slic = slic(Xtest[0,:,:,0], n_segments=50)\n",
    "print(segments_slic.shape)\n",
    "segments_slic\n",
    "print(np.unique(segments_slic))\n",
    "print(segments_slic)\n",
    "plt.figure(figsize=(30,10)) \n",
    "plt.imshow(segments_slic, aspect=\"auto\");\n",
    "plt.axis('off');"
   ]
  },
  {
   "cell_type": "code",
   "execution_count": null,
   "metadata": {},
   "outputs": [],
   "source": []
  }
 ],
 "metadata": {
  "kernelspec": {
   "display_name": "Python 3",
   "language": "python",
   "name": "python3"
  },
  "language_info": {
   "codemirror_mode": {
    "name": "ipython",
    "version": 3
   },
   "file_extension": ".py",
   "mimetype": "text/x-python",
   "name": "python",
   "nbconvert_exporter": "python",
   "pygments_lexer": "ipython3",
   "version": "3.7.7"
  }
 },
 "nbformat": 4,
 "nbformat_minor": 4
}
